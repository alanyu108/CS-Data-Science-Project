{
 "cells": [
  {
   "cell_type": "markdown",
   "metadata": {},
   "source": [
    "# **Exploration of COVID-19 Infection rates in NYC**\n"
   ]
  },
  {
   "cell_type": "markdown",
   "metadata": {},
   "source": [
    "## NYC OpenData COVID-19 Infections\n",
    "---\n",
    "To explore the impact of COVID-19 vaccinations on the infection rate, we can first take a first look at the infection rate before and after\n",
    "the vaccinations were available to the general public. Luckily for us, NYC OpenData has publicly available data on COVID-19 infections. This link to the data can be found [here](https://data.cityofnewyork.us/Health/COVID-19-Outcomes-by-Testing-Cohorts-Cases-Hospita/cwmx-mvra).\n",
    "Using pandas and reading the csv, your dataframe should look something like this:"
   ]
  },
  {
   "cell_type": "code",
   "execution_count": 40,
   "metadata": {},
   "outputs": [
    {
     "data": {
      "text/html": [
       "<div>\n",
       "<style scoped>\n",
       "    .dataframe tbody tr th:only-of-type {\n",
       "        vertical-align: middle;\n",
       "    }\n",
       "\n",
       "    .dataframe tbody tr th {\n",
       "        vertical-align: top;\n",
       "    }\n",
       "\n",
       "    .dataframe thead th {\n",
       "        text-align: right;\n",
       "    }\n",
       "</style>\n",
       "<table border=\"1\" class=\"dataframe\">\n",
       "  <thead>\n",
       "    <tr style=\"text-align: right;\">\n",
       "      <th></th>\n",
       "      <th>extract_date</th>\n",
       "      <th>specimen_date</th>\n",
       "      <th>Number_tested</th>\n",
       "      <th>Number_confirmed</th>\n",
       "      <th>Number_hospitalized</th>\n",
       "      <th>Number_deaths</th>\n",
       "    </tr>\n",
       "  </thead>\n",
       "  <tbody>\n",
       "    <tr>\n",
       "      <th>0</th>\n",
       "      <td>04/29/2020</td>\n",
       "      <td>04/17/2020</td>\n",
       "      <td>9979</td>\n",
       "      <td>3386</td>\n",
       "      <td>527</td>\n",
       "      <td>96</td>\n",
       "    </tr>\n",
       "    <tr>\n",
       "      <th>1</th>\n",
       "      <td>04/29/2020</td>\n",
       "      <td>02/08/2020</td>\n",
       "      <td>1</td>\n",
       "      <td>0</td>\n",
       "      <td>0</td>\n",
       "      <td>0</td>\n",
       "    </tr>\n",
       "    <tr>\n",
       "      <th>2</th>\n",
       "      <td>04/29/2020</td>\n",
       "      <td>03/05/2020</td>\n",
       "      <td>63</td>\n",
       "      <td>5</td>\n",
       "      <td>3</td>\n",
       "      <td>1</td>\n",
       "    </tr>\n",
       "    <tr>\n",
       "      <th>3</th>\n",
       "      <td>04/29/2020</td>\n",
       "      <td>04/09/2020</td>\n",
       "      <td>9019</td>\n",
       "      <td>4803</td>\n",
       "      <td>1253</td>\n",
       "      <td>386</td>\n",
       "    </tr>\n",
       "    <tr>\n",
       "      <th>4</th>\n",
       "      <td>04/29/2020</td>\n",
       "      <td>04/03/2020</td>\n",
       "      <td>9389</td>\n",
       "      <td>5523</td>\n",
       "      <td>1688</td>\n",
       "      <td>582</td>\n",
       "    </tr>\n",
       "  </tbody>\n",
       "</table>\n",
       "</div>"
      ],
      "text/plain": [
       "  extract_date specimen_date  Number_tested  Number_confirmed  \\\n",
       "0   04/29/2020    04/17/2020           9979              3386   \n",
       "1   04/29/2020    02/08/2020              1                 0   \n",
       "2   04/29/2020    03/05/2020             63                 5   \n",
       "3   04/29/2020    04/09/2020           9019              4803   \n",
       "4   04/29/2020    04/03/2020           9389              5523   \n",
       "\n",
       "   Number_hospitalized  Number_deaths  \n",
       "0                  527             96  \n",
       "1                    0              0  \n",
       "2                    3              1  \n",
       "3                 1253            386  \n",
       "4                 1688            582  "
      ]
     },
     "execution_count": 40,
     "metadata": {},
     "output_type": "execute_result"
    }
   ],
   "source": [
    "import pandas as pd\n",
    "covid_infections = pd.read_csv(\"covid_cases.csv\")\n",
    "covid_infections.head()"
   ]
  },
  {
   "cell_type": "markdown",
   "metadata": {},
   "source": [
    "Since the scope of this exploration is pertaining to the infection rate of COVID-19, the only columns that is of interest to us is the `Number_confirmed` and the `specimen_date`. According to NYC OpenData, `specimen_date` refers to *Date of specimen collection, equivalent to diagnosis date* and \n",
    "`Number_confirmed` refers to the *Count of patients tested who were confirmed to be COVID-19 cases*. \n",
    "\n",
    "By using these columns, we can get a sense of how the infection rate \n",
    "changed over time in NYC. To do so, we first did a little feature enginnering and extract the month and year from the `specimen_date` column. From that, we created the `specimen_month` and the `specimen_year` columns. Once we have that, we can then group the dataframe by those columns to calculate the number of infections within that period. Doing that will yield the table below."
   ]
  },
  {
   "cell_type": "code",
   "execution_count": 41,
   "metadata": {},
   "outputs": [
    {
     "data": {
      "text/html": [
       "<div>\n",
       "<style scoped>\n",
       "    .dataframe tbody tr th:only-of-type {\n",
       "        vertical-align: middle;\n",
       "    }\n",
       "\n",
       "    .dataframe tbody tr th {\n",
       "        vertical-align: top;\n",
       "    }\n",
       "\n",
       "    .dataframe thead th {\n",
       "        text-align: right;\n",
       "    }\n",
       "</style>\n",
       "<table border=\"1\" class=\"dataframe\">\n",
       "  <thead>\n",
       "    <tr style=\"text-align: right;\">\n",
       "      <th></th>\n",
       "      <th></th>\n",
       "      <th>Number_confirmed</th>\n",
       "    </tr>\n",
       "    <tr>\n",
       "      <th>specimen_month</th>\n",
       "      <th>specimen_year</th>\n",
       "      <th></th>\n",
       "    </tr>\n",
       "  </thead>\n",
       "  <tbody>\n",
       "    <tr>\n",
       "      <th rowspan=\"2\" valign=\"top\">1.0</th>\n",
       "      <th>2020.0</th>\n",
       "      <td>12572</td>\n",
       "    </tr>\n",
       "    <tr>\n",
       "      <th>2021.0</th>\n",
       "      <td>21149582</td>\n",
       "    </tr>\n",
       "    <tr>\n",
       "      <th rowspan=\"2\" valign=\"top\">2.0</th>\n",
       "      <th>2020.0</th>\n",
       "      <td>2213</td>\n",
       "    </tr>\n",
       "    <tr>\n",
       "      <th>2021.0</th>\n",
       "      <td>10615918</td>\n",
       "    </tr>\n",
       "    <tr>\n",
       "      <th rowspan=\"2\" valign=\"top\">3.0</th>\n",
       "      <th>2020.0</th>\n",
       "      <td>36498634</td>\n",
       "    </tr>\n",
       "    <tr>\n",
       "      <th>2021.0</th>\n",
       "      <td>8961414</td>\n",
       "    </tr>\n",
       "    <tr>\n",
       "      <th rowspan=\"2\" valign=\"top\">4.0</th>\n",
       "      <th>2020.0</th>\n",
       "      <td>59437292</td>\n",
       "    </tr>\n",
       "    <tr>\n",
       "      <th>2021.0</th>\n",
       "      <td>4443065</td>\n",
       "    </tr>\n",
       "    <tr>\n",
       "      <th rowspan=\"2\" valign=\"top\">5.0</th>\n",
       "      <th>2020.0</th>\n",
       "      <td>20595985</td>\n",
       "    </tr>\n",
       "    <tr>\n",
       "      <th>2021.0</th>\n",
       "      <td>927088</td>\n",
       "    </tr>\n",
       "    <tr>\n",
       "      <th rowspan=\"2\" valign=\"top\">6.0</th>\n",
       "      <th>2020.0</th>\n",
       "      <td>11577931</td>\n",
       "    </tr>\n",
       "    <tr>\n",
       "      <th>2021.0</th>\n",
       "      <td>276954</td>\n",
       "    </tr>\n",
       "    <tr>\n",
       "      <th rowspan=\"2\" valign=\"top\">7.0</th>\n",
       "      <th>2020.0</th>\n",
       "      <td>11491519</td>\n",
       "    </tr>\n",
       "    <tr>\n",
       "      <th>2021.0</th>\n",
       "      <td>516961</td>\n",
       "    </tr>\n",
       "    <tr>\n",
       "      <th rowspan=\"2\" valign=\"top\">8.0</th>\n",
       "      <th>2020.0</th>\n",
       "      <td>9562310</td>\n",
       "    </tr>\n",
       "    <tr>\n",
       "      <th>2021.0</th>\n",
       "      <td>745596</td>\n",
       "    </tr>\n",
       "    <tr>\n",
       "      <th rowspan=\"2\" valign=\"top\">9.0</th>\n",
       "      <th>2020.0</th>\n",
       "      <td>9367084</td>\n",
       "    </tr>\n",
       "    <tr>\n",
       "      <th>2021.0</th>\n",
       "      <td>182004</td>\n",
       "    </tr>\n",
       "    <tr>\n",
       "      <th>10.0</th>\n",
       "      <th>2020.0</th>\n",
       "      <td>10252869</td>\n",
       "    </tr>\n",
       "    <tr>\n",
       "      <th>11.0</th>\n",
       "      <th>2020.0</th>\n",
       "      <td>14570967</td>\n",
       "    </tr>\n",
       "    <tr>\n",
       "      <th>12.0</th>\n",
       "      <th>2020.0</th>\n",
       "      <td>20336188</td>\n",
       "    </tr>\n",
       "  </tbody>\n",
       "</table>\n",
       "</div>"
      ],
      "text/plain": [
       "                              Number_confirmed\n",
       "specimen_month specimen_year                  \n",
       "1.0            2020.0                    12572\n",
       "               2021.0                 21149582\n",
       "2.0            2020.0                     2213\n",
       "               2021.0                 10615918\n",
       "3.0            2020.0                 36498634\n",
       "               2021.0                  8961414\n",
       "4.0            2020.0                 59437292\n",
       "               2021.0                  4443065\n",
       "5.0            2020.0                 20595985\n",
       "               2021.0                   927088\n",
       "6.0            2020.0                 11577931\n",
       "               2021.0                   276954\n",
       "7.0            2020.0                 11491519\n",
       "               2021.0                   516961\n",
       "8.0            2020.0                  9562310\n",
       "               2021.0                   745596\n",
       "9.0            2020.0                  9367084\n",
       "               2021.0                   182004\n",
       "10.0           2020.0                 10252869\n",
       "11.0           2020.0                 14570967\n",
       "12.0           2020.0                 20336188"
      ]
     },
     "execution_count": 41,
     "metadata": {},
     "output_type": "execute_result"
    }
   ],
   "source": [
    "covid_infections['Date'] = pd.to_datetime(covid_infections['specimen_date'], format=\"%m/%d/%Y\", errors = 'coerce')\n",
    "covid_infections['specimen_month'] = covid_infections['Date'].dt.month\n",
    "covid_infections['specimen_year'] = covid_infections['Date'].dt.year\n",
    "\n",
    "covid_infections = covid_infections[(covid_infections['specimen_year'] == 2020) | (covid_infections['specimen_year'] == 2021)]\n",
    "covid_infections.dropna(inplace=True)\n",
    "\n",
    "infect_by_month = covid_infections.groupby(['specimen_month', 'specimen_year']).agg({\"Number_confirmed\": \"sum\"})\n",
    "infect_by_month"
   ]
  },
  {
   "cell_type": "markdown",
   "metadata": {},
   "source": [
    "Looking at that table, it is quite hard to tell what is going on and the trends that are occuring. With the power of plotly express, we can plot the data on to a graph and more clearly see what is going on.  "
   ]
  },
  {
   "cell_type": "code",
   "execution_count": 42,
   "metadata": {},
   "outputs": [
    {
     "data": {
      "application/vnd.plotly.v1+json": {
       "config": {
        "plotlyServerURL": "https://plot.ly"
       },
       "data": [
        {
         "alignmentgroup": "True",
         "bingroup": "x",
         "histfunc": "sum",
         "hovertemplate": "month=%{x}<br>sum of infections=%{y}<extra></extra>",
         "legendgroup": "",
         "marker": {
          "color": "#636efa",
          "pattern": {
           "shape": ""
          }
         },
         "name": "",
         "offsetgroup": "",
         "orientation": "v",
         "showlegend": false,
         "type": "histogram",
         "x": [
          "January 2020",
          "February 2020",
          "March 2020",
          "April 2020",
          "May 2020",
          "June 2020",
          "July 2020",
          "August 2020",
          "September 2020",
          "October 2020",
          "November 2020",
          "December 2020",
          "January 2021",
          "February 2021",
          "March 2021",
          "April 2021",
          "May 2021",
          "June 2021",
          "July 2021",
          "August 2021",
          "September 2021",
          "October 2021",
          "November 2021",
          "December 2021"
         ],
         "xaxis": "x",
         "y": [
          12572,
          2213,
          36498634,
          59437292,
          20595985,
          11577931,
          11491519,
          9562310,
          9367084,
          10252869,
          14570967,
          20336188,
          21149582,
          10615918,
          8961414,
          4443065,
          927088,
          276954,
          516961,
          745596,
          182004,
          0,
          0,
          0
         ],
         "yaxis": "y"
        }
       ],
       "layout": {
        "barmode": "relative",
        "legend": {
         "tracegroupgap": 0
        },
        "margin": {
         "t": 60
        },
        "template": {
         "data": {
          "bar": [
           {
            "error_x": {
             "color": "#2a3f5f"
            },
            "error_y": {
             "color": "#2a3f5f"
            },
            "marker": {
             "line": {
              "color": "#E5ECF6",
              "width": 0.5
             },
             "pattern": {
              "fillmode": "overlay",
              "size": 10,
              "solidity": 0.2
             }
            },
            "type": "bar"
           }
          ],
          "barpolar": [
           {
            "marker": {
             "line": {
              "color": "#E5ECF6",
              "width": 0.5
             },
             "pattern": {
              "fillmode": "overlay",
              "size": 10,
              "solidity": 0.2
             }
            },
            "type": "barpolar"
           }
          ],
          "carpet": [
           {
            "aaxis": {
             "endlinecolor": "#2a3f5f",
             "gridcolor": "white",
             "linecolor": "white",
             "minorgridcolor": "white",
             "startlinecolor": "#2a3f5f"
            },
            "baxis": {
             "endlinecolor": "#2a3f5f",
             "gridcolor": "white",
             "linecolor": "white",
             "minorgridcolor": "white",
             "startlinecolor": "#2a3f5f"
            },
            "type": "carpet"
           }
          ],
          "choropleth": [
           {
            "colorbar": {
             "outlinewidth": 0,
             "ticks": ""
            },
            "type": "choropleth"
           }
          ],
          "contour": [
           {
            "colorbar": {
             "outlinewidth": 0,
             "ticks": ""
            },
            "colorscale": [
             [
              0,
              "#0d0887"
             ],
             [
              0.1111111111111111,
              "#46039f"
             ],
             [
              0.2222222222222222,
              "#7201a8"
             ],
             [
              0.3333333333333333,
              "#9c179e"
             ],
             [
              0.4444444444444444,
              "#bd3786"
             ],
             [
              0.5555555555555556,
              "#d8576b"
             ],
             [
              0.6666666666666666,
              "#ed7953"
             ],
             [
              0.7777777777777778,
              "#fb9f3a"
             ],
             [
              0.8888888888888888,
              "#fdca26"
             ],
             [
              1,
              "#f0f921"
             ]
            ],
            "type": "contour"
           }
          ],
          "contourcarpet": [
           {
            "colorbar": {
             "outlinewidth": 0,
             "ticks": ""
            },
            "type": "contourcarpet"
           }
          ],
          "heatmap": [
           {
            "colorbar": {
             "outlinewidth": 0,
             "ticks": ""
            },
            "colorscale": [
             [
              0,
              "#0d0887"
             ],
             [
              0.1111111111111111,
              "#46039f"
             ],
             [
              0.2222222222222222,
              "#7201a8"
             ],
             [
              0.3333333333333333,
              "#9c179e"
             ],
             [
              0.4444444444444444,
              "#bd3786"
             ],
             [
              0.5555555555555556,
              "#d8576b"
             ],
             [
              0.6666666666666666,
              "#ed7953"
             ],
             [
              0.7777777777777778,
              "#fb9f3a"
             ],
             [
              0.8888888888888888,
              "#fdca26"
             ],
             [
              1,
              "#f0f921"
             ]
            ],
            "type": "heatmap"
           }
          ],
          "heatmapgl": [
           {
            "colorbar": {
             "outlinewidth": 0,
             "ticks": ""
            },
            "colorscale": [
             [
              0,
              "#0d0887"
             ],
             [
              0.1111111111111111,
              "#46039f"
             ],
             [
              0.2222222222222222,
              "#7201a8"
             ],
             [
              0.3333333333333333,
              "#9c179e"
             ],
             [
              0.4444444444444444,
              "#bd3786"
             ],
             [
              0.5555555555555556,
              "#d8576b"
             ],
             [
              0.6666666666666666,
              "#ed7953"
             ],
             [
              0.7777777777777778,
              "#fb9f3a"
             ],
             [
              0.8888888888888888,
              "#fdca26"
             ],
             [
              1,
              "#f0f921"
             ]
            ],
            "type": "heatmapgl"
           }
          ],
          "histogram": [
           {
            "marker": {
             "pattern": {
              "fillmode": "overlay",
              "size": 10,
              "solidity": 0.2
             }
            },
            "type": "histogram"
           }
          ],
          "histogram2d": [
           {
            "colorbar": {
             "outlinewidth": 0,
             "ticks": ""
            },
            "colorscale": [
             [
              0,
              "#0d0887"
             ],
             [
              0.1111111111111111,
              "#46039f"
             ],
             [
              0.2222222222222222,
              "#7201a8"
             ],
             [
              0.3333333333333333,
              "#9c179e"
             ],
             [
              0.4444444444444444,
              "#bd3786"
             ],
             [
              0.5555555555555556,
              "#d8576b"
             ],
             [
              0.6666666666666666,
              "#ed7953"
             ],
             [
              0.7777777777777778,
              "#fb9f3a"
             ],
             [
              0.8888888888888888,
              "#fdca26"
             ],
             [
              1,
              "#f0f921"
             ]
            ],
            "type": "histogram2d"
           }
          ],
          "histogram2dcontour": [
           {
            "colorbar": {
             "outlinewidth": 0,
             "ticks": ""
            },
            "colorscale": [
             [
              0,
              "#0d0887"
             ],
             [
              0.1111111111111111,
              "#46039f"
             ],
             [
              0.2222222222222222,
              "#7201a8"
             ],
             [
              0.3333333333333333,
              "#9c179e"
             ],
             [
              0.4444444444444444,
              "#bd3786"
             ],
             [
              0.5555555555555556,
              "#d8576b"
             ],
             [
              0.6666666666666666,
              "#ed7953"
             ],
             [
              0.7777777777777778,
              "#fb9f3a"
             ],
             [
              0.8888888888888888,
              "#fdca26"
             ],
             [
              1,
              "#f0f921"
             ]
            ],
            "type": "histogram2dcontour"
           }
          ],
          "mesh3d": [
           {
            "colorbar": {
             "outlinewidth": 0,
             "ticks": ""
            },
            "type": "mesh3d"
           }
          ],
          "parcoords": [
           {
            "line": {
             "colorbar": {
              "outlinewidth": 0,
              "ticks": ""
             }
            },
            "type": "parcoords"
           }
          ],
          "pie": [
           {
            "automargin": true,
            "type": "pie"
           }
          ],
          "scatter": [
           {
            "marker": {
             "colorbar": {
              "outlinewidth": 0,
              "ticks": ""
             }
            },
            "type": "scatter"
           }
          ],
          "scatter3d": [
           {
            "line": {
             "colorbar": {
              "outlinewidth": 0,
              "ticks": ""
             }
            },
            "marker": {
             "colorbar": {
              "outlinewidth": 0,
              "ticks": ""
             }
            },
            "type": "scatter3d"
           }
          ],
          "scattercarpet": [
           {
            "marker": {
             "colorbar": {
              "outlinewidth": 0,
              "ticks": ""
             }
            },
            "type": "scattercarpet"
           }
          ],
          "scattergeo": [
           {
            "marker": {
             "colorbar": {
              "outlinewidth": 0,
              "ticks": ""
             }
            },
            "type": "scattergeo"
           }
          ],
          "scattergl": [
           {
            "marker": {
             "colorbar": {
              "outlinewidth": 0,
              "ticks": ""
             }
            },
            "type": "scattergl"
           }
          ],
          "scattermapbox": [
           {
            "marker": {
             "colorbar": {
              "outlinewidth": 0,
              "ticks": ""
             }
            },
            "type": "scattermapbox"
           }
          ],
          "scatterpolar": [
           {
            "marker": {
             "colorbar": {
              "outlinewidth": 0,
              "ticks": ""
             }
            },
            "type": "scatterpolar"
           }
          ],
          "scatterpolargl": [
           {
            "marker": {
             "colorbar": {
              "outlinewidth": 0,
              "ticks": ""
             }
            },
            "type": "scatterpolargl"
           }
          ],
          "scatterternary": [
           {
            "marker": {
             "colorbar": {
              "outlinewidth": 0,
              "ticks": ""
             }
            },
            "type": "scatterternary"
           }
          ],
          "surface": [
           {
            "colorbar": {
             "outlinewidth": 0,
             "ticks": ""
            },
            "colorscale": [
             [
              0,
              "#0d0887"
             ],
             [
              0.1111111111111111,
              "#46039f"
             ],
             [
              0.2222222222222222,
              "#7201a8"
             ],
             [
              0.3333333333333333,
              "#9c179e"
             ],
             [
              0.4444444444444444,
              "#bd3786"
             ],
             [
              0.5555555555555556,
              "#d8576b"
             ],
             [
              0.6666666666666666,
              "#ed7953"
             ],
             [
              0.7777777777777778,
              "#fb9f3a"
             ],
             [
              0.8888888888888888,
              "#fdca26"
             ],
             [
              1,
              "#f0f921"
             ]
            ],
            "type": "surface"
           }
          ],
          "table": [
           {
            "cells": {
             "fill": {
              "color": "#EBF0F8"
             },
             "line": {
              "color": "white"
             }
            },
            "header": {
             "fill": {
              "color": "#C8D4E3"
             },
             "line": {
              "color": "white"
             }
            },
            "type": "table"
           }
          ]
         },
         "layout": {
          "annotationdefaults": {
           "arrowcolor": "#2a3f5f",
           "arrowhead": 0,
           "arrowwidth": 1
          },
          "autotypenumbers": "strict",
          "coloraxis": {
           "colorbar": {
            "outlinewidth": 0,
            "ticks": ""
           }
          },
          "colorscale": {
           "diverging": [
            [
             0,
             "#8e0152"
            ],
            [
             0.1,
             "#c51b7d"
            ],
            [
             0.2,
             "#de77ae"
            ],
            [
             0.3,
             "#f1b6da"
            ],
            [
             0.4,
             "#fde0ef"
            ],
            [
             0.5,
             "#f7f7f7"
            ],
            [
             0.6,
             "#e6f5d0"
            ],
            [
             0.7,
             "#b8e186"
            ],
            [
             0.8,
             "#7fbc41"
            ],
            [
             0.9,
             "#4d9221"
            ],
            [
             1,
             "#276419"
            ]
           ],
           "sequential": [
            [
             0,
             "#0d0887"
            ],
            [
             0.1111111111111111,
             "#46039f"
            ],
            [
             0.2222222222222222,
             "#7201a8"
            ],
            [
             0.3333333333333333,
             "#9c179e"
            ],
            [
             0.4444444444444444,
             "#bd3786"
            ],
            [
             0.5555555555555556,
             "#d8576b"
            ],
            [
             0.6666666666666666,
             "#ed7953"
            ],
            [
             0.7777777777777778,
             "#fb9f3a"
            ],
            [
             0.8888888888888888,
             "#fdca26"
            ],
            [
             1,
             "#f0f921"
            ]
           ],
           "sequentialminus": [
            [
             0,
             "#0d0887"
            ],
            [
             0.1111111111111111,
             "#46039f"
            ],
            [
             0.2222222222222222,
             "#7201a8"
            ],
            [
             0.3333333333333333,
             "#9c179e"
            ],
            [
             0.4444444444444444,
             "#bd3786"
            ],
            [
             0.5555555555555556,
             "#d8576b"
            ],
            [
             0.6666666666666666,
             "#ed7953"
            ],
            [
             0.7777777777777778,
             "#fb9f3a"
            ],
            [
             0.8888888888888888,
             "#fdca26"
            ],
            [
             1,
             "#f0f921"
            ]
           ]
          },
          "colorway": [
           "#636efa",
           "#EF553B",
           "#00cc96",
           "#ab63fa",
           "#FFA15A",
           "#19d3f3",
           "#FF6692",
           "#B6E880",
           "#FF97FF",
           "#FECB52"
          ],
          "font": {
           "color": "#2a3f5f"
          },
          "geo": {
           "bgcolor": "white",
           "lakecolor": "white",
           "landcolor": "#E5ECF6",
           "showlakes": true,
           "showland": true,
           "subunitcolor": "white"
          },
          "hoverlabel": {
           "align": "left"
          },
          "hovermode": "closest",
          "mapbox": {
           "style": "light"
          },
          "paper_bgcolor": "white",
          "plot_bgcolor": "#E5ECF6",
          "polar": {
           "angularaxis": {
            "gridcolor": "white",
            "linecolor": "white",
            "ticks": ""
           },
           "bgcolor": "#E5ECF6",
           "radialaxis": {
            "gridcolor": "white",
            "linecolor": "white",
            "ticks": ""
           }
          },
          "scene": {
           "xaxis": {
            "backgroundcolor": "#E5ECF6",
            "gridcolor": "white",
            "gridwidth": 2,
            "linecolor": "white",
            "showbackground": true,
            "ticks": "",
            "zerolinecolor": "white"
           },
           "yaxis": {
            "backgroundcolor": "#E5ECF6",
            "gridcolor": "white",
            "gridwidth": 2,
            "linecolor": "white",
            "showbackground": true,
            "ticks": "",
            "zerolinecolor": "white"
           },
           "zaxis": {
            "backgroundcolor": "#E5ECF6",
            "gridcolor": "white",
            "gridwidth": 2,
            "linecolor": "white",
            "showbackground": true,
            "ticks": "",
            "zerolinecolor": "white"
           }
          },
          "shapedefaults": {
           "line": {
            "color": "#2a3f5f"
           }
          },
          "ternary": {
           "aaxis": {
            "gridcolor": "white",
            "linecolor": "white",
            "ticks": ""
           },
           "baxis": {
            "gridcolor": "white",
            "linecolor": "white",
            "ticks": ""
           },
           "bgcolor": "#E5ECF6",
           "caxis": {
            "gridcolor": "white",
            "linecolor": "white",
            "ticks": ""
           }
          },
          "title": {
           "x": 0.05
          },
          "xaxis": {
           "automargin": true,
           "gridcolor": "white",
           "linecolor": "white",
           "ticks": "",
           "title": {
            "standoff": 15
           },
           "zerolinecolor": "white",
           "zerolinewidth": 2
          },
          "yaxis": {
           "automargin": true,
           "gridcolor": "white",
           "linecolor": "white",
           "ticks": "",
           "title": {
            "standoff": 15
           },
           "zerolinecolor": "white",
           "zerolinewidth": 2
          }
         }
        },
        "xaxis": {
         "anchor": "y",
         "domain": [
          0,
          1
         ],
         "title": {
          "text": "month"
         }
        },
        "yaxis": {
         "anchor": "x",
         "domain": [
          0,
          1
         ],
         "title": {
          "text": "sum of infections"
         }
        }
       }
      }
     },
     "metadata": {},
     "output_type": "display_data"
    }
   ],
   "source": [
    "import plotly_express as px\n",
    "import calendar\n",
    "infect_2020 = infect_by_month.unstack()[('Number_confirmed', 2020)]\n",
    "infect_2021 = infect_by_month.unstack()[('Number_confirmed', 2021)].fillna(0)\n",
    "\n",
    "months = [calendar.month_name[x] + \" 2020\" for x in range(1, len(infect_2020) + 1) ] +\\\n",
    "        [calendar.month_name[x] + \" 2021\" for x in range(1, len(infect_2020) + 1)] \n",
    "\n",
    "combined_data = list(zip(infect_2020.tolist() + infect_2021.tolist(), months)) \n",
    "df = pd.DataFrame(combined_data, columns=[\"infections\", \"month\"])\n",
    "px.histogram(df, x=\"month\", y=\"infections\")\n"
   ]
  },
  {
   "cell_type": "markdown",
   "metadata": {},
   "source": [
    "From this bar graph, we can tell that the pandemic started around March of 2020. Infections peaked during April and as we were headed towards the summertime, the amount of infections started to plateau. From the fall to the winter of 2020, we see the infections starting to rise up slowly. For 2021, it was not as much of a rollercoaster as 2020 as we just see a steady decline in the amount of \n",
    "infections over the coming months.\n",
    "\n",
    "From a data science prospective, the period of April to July of 2020 is very interesting because we see this very sharp decline in infections. Something must have happened between that period for this decline to occur. As a resident of NYC during that time, I know that we were in one of the harshest lockdowns in the US and that maybe the lockdowns are a probable explanation for that sharp decline. To know this for us, we have to take a look at the individuals who were infected and how they were infected. "
   ]
  },
  {
   "cell_type": "markdown",
   "metadata": {},
   "source": [
    "## CDC Individual COVID-19 Infection Data\n",
    "---\n",
    "\n",
    "The CDC or Center for Disease Control and Prevention is a US national public health agency that has been monitoring and collecting information on COVID-19. This [dataset](https://data.cdc.gov/Case-Surveillance/COVID-19-Case-Surveillance-Public-Use-Data-with-Ge/n8mc-b4w4) provides information on *the demographics, geography (county and state of residence), any exposure history, disease severity indicators and outcomes, and presence of any underlying medical conditions and risk behaviors*  of individuals that were infected by COVID-19. While this dateset does not include everyone who was infected that lived in NYC, it is big enough to provide a representative sample for us to explore. Reading in the csv, we get this table:"
   ]
  },
  {
   "cell_type": "code",
   "execution_count": 43,
   "metadata": {},
   "outputs": [
    {
     "data": {
      "text/html": [
       "<div>\n",
       "<style scoped>\n",
       "    .dataframe tbody tr th:only-of-type {\n",
       "        vertical-align: middle;\n",
       "    }\n",
       "\n",
       "    .dataframe tbody tr th {\n",
       "        vertical-align: top;\n",
       "    }\n",
       "\n",
       "    .dataframe thead th {\n",
       "        text-align: right;\n",
       "    }\n",
       "</style>\n",
       "<table border=\"1\" class=\"dataframe\">\n",
       "  <thead>\n",
       "    <tr style=\"text-align: right;\">\n",
       "      <th></th>\n",
       "      <th>case_month</th>\n",
       "      <th>res_state</th>\n",
       "      <th>state_fips_code</th>\n",
       "      <th>res_county</th>\n",
       "      <th>county_fips_code</th>\n",
       "      <th>age_group</th>\n",
       "      <th>sex</th>\n",
       "      <th>race</th>\n",
       "      <th>ethnicity</th>\n",
       "      <th>case_positive_specimen_interval</th>\n",
       "      <th>case_onset_interval</th>\n",
       "      <th>process</th>\n",
       "      <th>exposure_yn</th>\n",
       "      <th>current_status</th>\n",
       "      <th>symptom_status</th>\n",
       "      <th>hosp_yn</th>\n",
       "      <th>icu_yn</th>\n",
       "      <th>death_yn</th>\n",
       "      <th>underlying_conditions_yn</th>\n",
       "    </tr>\n",
       "  </thead>\n",
       "  <tbody>\n",
       "    <tr>\n",
       "      <th>0</th>\n",
       "      <td>2020-12</td>\n",
       "      <td>NY</td>\n",
       "      <td>36</td>\n",
       "      <td>BRONX</td>\n",
       "      <td>36005</td>\n",
       "      <td>0 - 17 years</td>\n",
       "      <td>Female</td>\n",
       "      <td>American Indian/Alaska Native</td>\n",
       "      <td>Hispanic/Latino</td>\n",
       "      <td>0.0</td>\n",
       "      <td>0.0</td>\n",
       "      <td>Missing</td>\n",
       "      <td>Missing</td>\n",
       "      <td>Probable Case</td>\n",
       "      <td>Symptomatic</td>\n",
       "      <td>Missing</td>\n",
       "      <td>Missing</td>\n",
       "      <td>Missing</td>\n",
       "      <td>NaN</td>\n",
       "    </tr>\n",
       "    <tr>\n",
       "      <th>1</th>\n",
       "      <td>2021-01</td>\n",
       "      <td>NY</td>\n",
       "      <td>36</td>\n",
       "      <td>QUEENS</td>\n",
       "      <td>36081</td>\n",
       "      <td>0 - 17 years</td>\n",
       "      <td>Female</td>\n",
       "      <td>American Indian/Alaska Native</td>\n",
       "      <td>Hispanic/Latino</td>\n",
       "      <td>1.0</td>\n",
       "      <td>0.0</td>\n",
       "      <td>Missing</td>\n",
       "      <td>Missing</td>\n",
       "      <td>Laboratory-confirmed case</td>\n",
       "      <td>Symptomatic</td>\n",
       "      <td>Missing</td>\n",
       "      <td>Missing</td>\n",
       "      <td>Missing</td>\n",
       "      <td>NaN</td>\n",
       "    </tr>\n",
       "    <tr>\n",
       "      <th>2</th>\n",
       "      <td>2021-01</td>\n",
       "      <td>NY</td>\n",
       "      <td>36</td>\n",
       "      <td>KINGS</td>\n",
       "      <td>36047</td>\n",
       "      <td>18 to 49 years</td>\n",
       "      <td>Female</td>\n",
       "      <td>American Indian/Alaska Native</td>\n",
       "      <td>Hispanic/Latino</td>\n",
       "      <td>1.0</td>\n",
       "      <td>0.0</td>\n",
       "      <td>Missing</td>\n",
       "      <td>Missing</td>\n",
       "      <td>Probable Case</td>\n",
       "      <td>Symptomatic</td>\n",
       "      <td>Missing</td>\n",
       "      <td>Missing</td>\n",
       "      <td>Missing</td>\n",
       "      <td>NaN</td>\n",
       "    </tr>\n",
       "    <tr>\n",
       "      <th>3</th>\n",
       "      <td>2020-11</td>\n",
       "      <td>NY</td>\n",
       "      <td>36</td>\n",
       "      <td>RICHMOND</td>\n",
       "      <td>36085</td>\n",
       "      <td>18 to 49 years</td>\n",
       "      <td>Female</td>\n",
       "      <td>American Indian/Alaska Native</td>\n",
       "      <td>Hispanic/Latino</td>\n",
       "      <td>1.0</td>\n",
       "      <td>0.0</td>\n",
       "      <td>Missing</td>\n",
       "      <td>Missing</td>\n",
       "      <td>Probable Case</td>\n",
       "      <td>Symptomatic</td>\n",
       "      <td>Missing</td>\n",
       "      <td>Missing</td>\n",
       "      <td>Missing</td>\n",
       "      <td>NaN</td>\n",
       "    </tr>\n",
       "    <tr>\n",
       "      <th>4</th>\n",
       "      <td>2020-12</td>\n",
       "      <td>NY</td>\n",
       "      <td>36</td>\n",
       "      <td>BRONX</td>\n",
       "      <td>36005</td>\n",
       "      <td>0 - 17 years</td>\n",
       "      <td>Female</td>\n",
       "      <td>American Indian/Alaska Native</td>\n",
       "      <td>Hispanic/Latino</td>\n",
       "      <td>NaN</td>\n",
       "      <td>0.0</td>\n",
       "      <td>Missing</td>\n",
       "      <td>Missing</td>\n",
       "      <td>Probable Case</td>\n",
       "      <td>Symptomatic</td>\n",
       "      <td>Missing</td>\n",
       "      <td>Missing</td>\n",
       "      <td>Missing</td>\n",
       "      <td>NaN</td>\n",
       "    </tr>\n",
       "  </tbody>\n",
       "</table>\n",
       "</div>"
      ],
      "text/plain": [
       "  case_month res_state  state_fips_code res_county  county_fips_code  \\\n",
       "0    2020-12        NY               36      BRONX             36005   \n",
       "1    2021-01        NY               36     QUEENS             36081   \n",
       "2    2021-01        NY               36      KINGS             36047   \n",
       "3    2020-11        NY               36   RICHMOND             36085   \n",
       "4    2020-12        NY               36      BRONX             36005   \n",
       "\n",
       "        age_group     sex                           race        ethnicity  \\\n",
       "0    0 - 17 years  Female  American Indian/Alaska Native  Hispanic/Latino   \n",
       "1    0 - 17 years  Female  American Indian/Alaska Native  Hispanic/Latino   \n",
       "2  18 to 49 years  Female  American Indian/Alaska Native  Hispanic/Latino   \n",
       "3  18 to 49 years  Female  American Indian/Alaska Native  Hispanic/Latino   \n",
       "4    0 - 17 years  Female  American Indian/Alaska Native  Hispanic/Latino   \n",
       "\n",
       "   case_positive_specimen_interval  case_onset_interval  process exposure_yn  \\\n",
       "0                              0.0                  0.0  Missing     Missing   \n",
       "1                              1.0                  0.0  Missing     Missing   \n",
       "2                              1.0                  0.0  Missing     Missing   \n",
       "3                              1.0                  0.0  Missing     Missing   \n",
       "4                              NaN                  0.0  Missing     Missing   \n",
       "\n",
       "              current_status symptom_status  hosp_yn   icu_yn death_yn  \\\n",
       "0              Probable Case    Symptomatic  Missing  Missing  Missing   \n",
       "1  Laboratory-confirmed case    Symptomatic  Missing  Missing  Missing   \n",
       "2              Probable Case    Symptomatic  Missing  Missing  Missing   \n",
       "3              Probable Case    Symptomatic  Missing  Missing  Missing   \n",
       "4              Probable Case    Symptomatic  Missing  Missing  Missing   \n",
       "\n",
       "  underlying_conditions_yn  \n",
       "0                      NaN  \n",
       "1                      NaN  \n",
       "2                      NaN  \n",
       "3                      NaN  \n",
       "4                      NaN  "
      ]
     },
     "execution_count": 43,
     "metadata": {},
     "output_type": "execute_result"
    }
   ],
   "source": [
    "nyc_individual = pd.read_csv(\"nyc_individual_covid_data.csv\")\n",
    "nyc_individual.head()"
   ]
  },
  {
   "cell_type": "markdown",
   "metadata": {},
   "source": [
    "From this dataset, we will be using the `case_month` and `exposure_yn` columns. As the CDC puts it, the `case_month` is the date the information was received by the CDC and the `exposure_yn` is described as *in the 14 days prior to illness onset, did the patient have any of the following known exposures: domestic travel, international travel, cruise ship or vessel travel as a passenger or crew member, workplace, airport/airplane, adult congregate living facility (nursing, assisted living, or long-term care facility), school/university/childcare center, correctional facility, community event/mass gathering, animal with confirmed or suspected COVID-19, other exposure, contact with a known COVID-19 case?*. By using these columns, it can help us to understand how many individuals were infected due to exposure and maybe how a lockdown can affect such exposure.\n",
    "\n",
    "Extracting the month and year as before from `case_month`, we can group our dataframe by the month and the year and see how many individuals were infected in this dataset as well as how many were infected due to exposure. "
   ]
  },
  {
   "cell_type": "code",
   "execution_count": 44,
   "metadata": {},
   "outputs": [
    {
     "data": {
      "text/html": [
       "<div>\n",
       "<style scoped>\n",
       "    .dataframe tbody tr th:only-of-type {\n",
       "        vertical-align: middle;\n",
       "    }\n",
       "\n",
       "    .dataframe tbody tr th {\n",
       "        vertical-align: top;\n",
       "    }\n",
       "\n",
       "    .dataframe thead tr th {\n",
       "        text-align: left;\n",
       "    }\n",
       "\n",
       "    .dataframe thead tr:last-of-type th {\n",
       "        text-align: right;\n",
       "    }\n",
       "</style>\n",
       "<table border=\"1\" class=\"dataframe\">\n",
       "  <thead>\n",
       "    <tr>\n",
       "      <th></th>\n",
       "      <th colspan=\"2\" halign=\"left\">infected</th>\n",
       "      <th colspan=\"2\" halign=\"left\">exposed</th>\n",
       "    </tr>\n",
       "    <tr>\n",
       "      <th>year</th>\n",
       "      <th>2020</th>\n",
       "      <th>2021</th>\n",
       "      <th>2020</th>\n",
       "      <th>2021</th>\n",
       "    </tr>\n",
       "    <tr>\n",
       "      <th>month</th>\n",
       "      <th></th>\n",
       "      <th></th>\n",
       "      <th></th>\n",
       "      <th></th>\n",
       "    </tr>\n",
       "  </thead>\n",
       "  <tbody>\n",
       "    <tr>\n",
       "      <th>1</th>\n",
       "      <td>72.0</td>\n",
       "      <td>147254.0</td>\n",
       "      <td>1.0</td>\n",
       "      <td>1933.0</td>\n",
       "    </tr>\n",
       "    <tr>\n",
       "      <th>2</th>\n",
       "      <td>650.0</td>\n",
       "      <td>94683.0</td>\n",
       "      <td>9.0</td>\n",
       "      <td>728.0</td>\n",
       "    </tr>\n",
       "    <tr>\n",
       "      <th>3</th>\n",
       "      <td>58575.0</td>\n",
       "      <td>103035.0</td>\n",
       "      <td>21.0</td>\n",
       "      <td>787.0</td>\n",
       "    </tr>\n",
       "    <tr>\n",
       "      <th>4</th>\n",
       "      <td>99074.0</td>\n",
       "      <td>58679.0</td>\n",
       "      <td>14.0</td>\n",
       "      <td>765.0</td>\n",
       "    </tr>\n",
       "    <tr>\n",
       "      <th>5</th>\n",
       "      <td>24439.0</td>\n",
       "      <td>14372.0</td>\n",
       "      <td>6.0</td>\n",
       "      <td>57.0</td>\n",
       "    </tr>\n",
       "    <tr>\n",
       "      <th>6</th>\n",
       "      <td>9474.0</td>\n",
       "      <td>5571.0</td>\n",
       "      <td>12.0</td>\n",
       "      <td>138.0</td>\n",
       "    </tr>\n",
       "    <tr>\n",
       "      <th>7</th>\n",
       "      <td>8370.0</td>\n",
       "      <td>21767.0</td>\n",
       "      <td>183.0</td>\n",
       "      <td>792.0</td>\n",
       "    </tr>\n",
       "    <tr>\n",
       "      <th>8</th>\n",
       "      <td>6844.0</td>\n",
       "      <td>47184.0</td>\n",
       "      <td>325.0</td>\n",
       "      <td>1494.0</td>\n",
       "    </tr>\n",
       "    <tr>\n",
       "      <th>9</th>\n",
       "      <td>10763.0</td>\n",
       "      <td>40538.0</td>\n",
       "      <td>291.0</td>\n",
       "      <td>1021.0</td>\n",
       "    </tr>\n",
       "    <tr>\n",
       "      <th>10</th>\n",
       "      <td>18332.0</td>\n",
       "      <td>22225.0</td>\n",
       "      <td>338.0</td>\n",
       "      <td>377.0</td>\n",
       "    </tr>\n",
       "    <tr>\n",
       "      <th>11</th>\n",
       "      <td>52598.0</td>\n",
       "      <td>0.0</td>\n",
       "      <td>636.0</td>\n",
       "      <td>0.0</td>\n",
       "    </tr>\n",
       "    <tr>\n",
       "      <th>12</th>\n",
       "      <td>108551.0</td>\n",
       "      <td>0.0</td>\n",
       "      <td>831.0</td>\n",
       "      <td>0.0</td>\n",
       "    </tr>\n",
       "  </tbody>\n",
       "</table>\n",
       "</div>"
      ],
      "text/plain": [
       "       infected           exposed        \n",
       "year       2020      2021    2020    2021\n",
       "month                                    \n",
       "1          72.0  147254.0     1.0  1933.0\n",
       "2         650.0   94683.0     9.0   728.0\n",
       "3       58575.0  103035.0    21.0   787.0\n",
       "4       99074.0   58679.0    14.0   765.0\n",
       "5       24439.0   14372.0     6.0    57.0\n",
       "6        9474.0    5571.0    12.0   138.0\n",
       "7        8370.0   21767.0   183.0   792.0\n",
       "8        6844.0   47184.0   325.0  1494.0\n",
       "9       10763.0   40538.0   291.0  1021.0\n",
       "10      18332.0   22225.0   338.0   377.0\n",
       "11      52598.0       0.0   636.0     0.0\n",
       "12     108551.0       0.0   831.0     0.0"
      ]
     },
     "execution_count": 44,
     "metadata": {},
     "output_type": "execute_result"
    }
   ],
   "source": [
    "nyc_individual['month'] = nyc_individual['case_month'].apply(lambda x: int(x[5:]))\n",
    "nyc_individual['year'] = nyc_individual['case_month'].apply(lambda x: int(x[:4]))\n",
    "nyc_individual['underlying_conditions_yn'].fillna(\"No\", inplace=True)\n",
    "\n",
    "expose_nyc_individual = pd.get_dummies(nyc_individual, columns=['exposure_yn'], drop_first=True)\n",
    "expose_month_data = expose_nyc_individual.groupby(['month', 'year']).agg(\n",
    "    infected = pd.NamedAgg(\"case_month\", aggfunc=\"count\") , # number of people infected\n",
    "    exposed = pd.NamedAgg(\"exposure_yn_Yes\", aggfunc=\"sum\") #number of people infected due to exposure\n",
    ").unstack().fillna(0)\n",
    "\n",
    "expose_month_data"
   ]
  },
  {
   "cell_type": "markdown",
   "metadata": {},
   "source": [
    "Graphing this data:"
   ]
  },
  {
   "cell_type": "code",
   "execution_count": 45,
   "metadata": {},
   "outputs": [
    {
     "data": {
      "application/vnd.plotly.v1+json": {
       "config": {
        "plotlyServerURL": "https://plot.ly"
       },
       "data": [
        {
         "alignmentgroup": "True",
         "bingroup": "x",
         "histfunc": "sum",
         "hovertemplate": "type=infected<br>month_year=%{x}<br>sum of individuals=%{y}<extra></extra>",
         "legendgroup": "infected",
         "marker": {
          "color": "#636efa",
          "pattern": {
           "shape": ""
          }
         },
         "name": "infected",
         "offsetgroup": "infected",
         "orientation": "v",
         "showlegend": true,
         "type": "histogram",
         "x": [
          "January 2020",
          "February 2020",
          "March 2020",
          "April 2020",
          "May 2020",
          "June 2020",
          "July 2020",
          "August 2020",
          "September 2020",
          "October 2020",
          "November 2020",
          "December 2020",
          "January 2021",
          "February 2021",
          "March 2021",
          "April 2021",
          "May 2021",
          "June 2021",
          "July 2021",
          "August 2021",
          "September 2021",
          "October 2021",
          "November 2021",
          "December 2021"
         ],
         "xaxis": "x",
         "y": [
          72,
          650,
          58575,
          99074,
          24439,
          9474,
          8370,
          6844,
          10763,
          18332,
          52598,
          108551,
          147254,
          94683,
          103035,
          58679,
          14372,
          5571,
          21767,
          47184,
          40538,
          22225,
          0,
          0
         ],
         "yaxis": "y"
        },
        {
         "alignmentgroup": "True",
         "bingroup": "x",
         "histfunc": "sum",
         "hovertemplate": "type=exposed<br>month_year=%{x}<br>sum of individuals=%{y}<extra></extra>",
         "legendgroup": "exposed",
         "marker": {
          "color": "#EF553B",
          "pattern": {
           "shape": ""
          }
         },
         "name": "exposed",
         "offsetgroup": "exposed",
         "orientation": "v",
         "showlegend": true,
         "type": "histogram",
         "x": [
          "January 2020",
          "February 2020",
          "March 2020",
          "April 2020",
          "May 2020",
          "June 2020",
          "July 2020",
          "August 2020",
          "September 2020",
          "October 2020",
          "November 2020",
          "December 2020",
          "January 2021",
          "February 2021",
          "March 2021",
          "April 2021",
          "May 2021",
          "June 2021",
          "July 2021",
          "August 2021",
          "September 2021",
          "October 2021",
          "November 2021",
          "December 2021"
         ],
         "xaxis": "x",
         "y": [
          1,
          9,
          21,
          14,
          6,
          12,
          183,
          325,
          291,
          338,
          636,
          831,
          1933,
          728,
          787,
          765,
          57,
          138,
          792,
          1494,
          1021,
          377,
          0,
          0
         ],
         "yaxis": "y"
        }
       ],
       "layout": {
        "barmode": "relative",
        "legend": {
         "title": {
          "text": "type"
         },
         "tracegroupgap": 0
        },
        "margin": {
         "t": 60
        },
        "template": {
         "data": {
          "bar": [
           {
            "error_x": {
             "color": "#2a3f5f"
            },
            "error_y": {
             "color": "#2a3f5f"
            },
            "marker": {
             "line": {
              "color": "#E5ECF6",
              "width": 0.5
             },
             "pattern": {
              "fillmode": "overlay",
              "size": 10,
              "solidity": 0.2
             }
            },
            "type": "bar"
           }
          ],
          "barpolar": [
           {
            "marker": {
             "line": {
              "color": "#E5ECF6",
              "width": 0.5
             },
             "pattern": {
              "fillmode": "overlay",
              "size": 10,
              "solidity": 0.2
             }
            },
            "type": "barpolar"
           }
          ],
          "carpet": [
           {
            "aaxis": {
             "endlinecolor": "#2a3f5f",
             "gridcolor": "white",
             "linecolor": "white",
             "minorgridcolor": "white",
             "startlinecolor": "#2a3f5f"
            },
            "baxis": {
             "endlinecolor": "#2a3f5f",
             "gridcolor": "white",
             "linecolor": "white",
             "minorgridcolor": "white",
             "startlinecolor": "#2a3f5f"
            },
            "type": "carpet"
           }
          ],
          "choropleth": [
           {
            "colorbar": {
             "outlinewidth": 0,
             "ticks": ""
            },
            "type": "choropleth"
           }
          ],
          "contour": [
           {
            "colorbar": {
             "outlinewidth": 0,
             "ticks": ""
            },
            "colorscale": [
             [
              0,
              "#0d0887"
             ],
             [
              0.1111111111111111,
              "#46039f"
             ],
             [
              0.2222222222222222,
              "#7201a8"
             ],
             [
              0.3333333333333333,
              "#9c179e"
             ],
             [
              0.4444444444444444,
              "#bd3786"
             ],
             [
              0.5555555555555556,
              "#d8576b"
             ],
             [
              0.6666666666666666,
              "#ed7953"
             ],
             [
              0.7777777777777778,
              "#fb9f3a"
             ],
             [
              0.8888888888888888,
              "#fdca26"
             ],
             [
              1,
              "#f0f921"
             ]
            ],
            "type": "contour"
           }
          ],
          "contourcarpet": [
           {
            "colorbar": {
             "outlinewidth": 0,
             "ticks": ""
            },
            "type": "contourcarpet"
           }
          ],
          "heatmap": [
           {
            "colorbar": {
             "outlinewidth": 0,
             "ticks": ""
            },
            "colorscale": [
             [
              0,
              "#0d0887"
             ],
             [
              0.1111111111111111,
              "#46039f"
             ],
             [
              0.2222222222222222,
              "#7201a8"
             ],
             [
              0.3333333333333333,
              "#9c179e"
             ],
             [
              0.4444444444444444,
              "#bd3786"
             ],
             [
              0.5555555555555556,
              "#d8576b"
             ],
             [
              0.6666666666666666,
              "#ed7953"
             ],
             [
              0.7777777777777778,
              "#fb9f3a"
             ],
             [
              0.8888888888888888,
              "#fdca26"
             ],
             [
              1,
              "#f0f921"
             ]
            ],
            "type": "heatmap"
           }
          ],
          "heatmapgl": [
           {
            "colorbar": {
             "outlinewidth": 0,
             "ticks": ""
            },
            "colorscale": [
             [
              0,
              "#0d0887"
             ],
             [
              0.1111111111111111,
              "#46039f"
             ],
             [
              0.2222222222222222,
              "#7201a8"
             ],
             [
              0.3333333333333333,
              "#9c179e"
             ],
             [
              0.4444444444444444,
              "#bd3786"
             ],
             [
              0.5555555555555556,
              "#d8576b"
             ],
             [
              0.6666666666666666,
              "#ed7953"
             ],
             [
              0.7777777777777778,
              "#fb9f3a"
             ],
             [
              0.8888888888888888,
              "#fdca26"
             ],
             [
              1,
              "#f0f921"
             ]
            ],
            "type": "heatmapgl"
           }
          ],
          "histogram": [
           {
            "marker": {
             "pattern": {
              "fillmode": "overlay",
              "size": 10,
              "solidity": 0.2
             }
            },
            "type": "histogram"
           }
          ],
          "histogram2d": [
           {
            "colorbar": {
             "outlinewidth": 0,
             "ticks": ""
            },
            "colorscale": [
             [
              0,
              "#0d0887"
             ],
             [
              0.1111111111111111,
              "#46039f"
             ],
             [
              0.2222222222222222,
              "#7201a8"
             ],
             [
              0.3333333333333333,
              "#9c179e"
             ],
             [
              0.4444444444444444,
              "#bd3786"
             ],
             [
              0.5555555555555556,
              "#d8576b"
             ],
             [
              0.6666666666666666,
              "#ed7953"
             ],
             [
              0.7777777777777778,
              "#fb9f3a"
             ],
             [
              0.8888888888888888,
              "#fdca26"
             ],
             [
              1,
              "#f0f921"
             ]
            ],
            "type": "histogram2d"
           }
          ],
          "histogram2dcontour": [
           {
            "colorbar": {
             "outlinewidth": 0,
             "ticks": ""
            },
            "colorscale": [
             [
              0,
              "#0d0887"
             ],
             [
              0.1111111111111111,
              "#46039f"
             ],
             [
              0.2222222222222222,
              "#7201a8"
             ],
             [
              0.3333333333333333,
              "#9c179e"
             ],
             [
              0.4444444444444444,
              "#bd3786"
             ],
             [
              0.5555555555555556,
              "#d8576b"
             ],
             [
              0.6666666666666666,
              "#ed7953"
             ],
             [
              0.7777777777777778,
              "#fb9f3a"
             ],
             [
              0.8888888888888888,
              "#fdca26"
             ],
             [
              1,
              "#f0f921"
             ]
            ],
            "type": "histogram2dcontour"
           }
          ],
          "mesh3d": [
           {
            "colorbar": {
             "outlinewidth": 0,
             "ticks": ""
            },
            "type": "mesh3d"
           }
          ],
          "parcoords": [
           {
            "line": {
             "colorbar": {
              "outlinewidth": 0,
              "ticks": ""
             }
            },
            "type": "parcoords"
           }
          ],
          "pie": [
           {
            "automargin": true,
            "type": "pie"
           }
          ],
          "scatter": [
           {
            "marker": {
             "colorbar": {
              "outlinewidth": 0,
              "ticks": ""
             }
            },
            "type": "scatter"
           }
          ],
          "scatter3d": [
           {
            "line": {
             "colorbar": {
              "outlinewidth": 0,
              "ticks": ""
             }
            },
            "marker": {
             "colorbar": {
              "outlinewidth": 0,
              "ticks": ""
             }
            },
            "type": "scatter3d"
           }
          ],
          "scattercarpet": [
           {
            "marker": {
             "colorbar": {
              "outlinewidth": 0,
              "ticks": ""
             }
            },
            "type": "scattercarpet"
           }
          ],
          "scattergeo": [
           {
            "marker": {
             "colorbar": {
              "outlinewidth": 0,
              "ticks": ""
             }
            },
            "type": "scattergeo"
           }
          ],
          "scattergl": [
           {
            "marker": {
             "colorbar": {
              "outlinewidth": 0,
              "ticks": ""
             }
            },
            "type": "scattergl"
           }
          ],
          "scattermapbox": [
           {
            "marker": {
             "colorbar": {
              "outlinewidth": 0,
              "ticks": ""
             }
            },
            "type": "scattermapbox"
           }
          ],
          "scatterpolar": [
           {
            "marker": {
             "colorbar": {
              "outlinewidth": 0,
              "ticks": ""
             }
            },
            "type": "scatterpolar"
           }
          ],
          "scatterpolargl": [
           {
            "marker": {
             "colorbar": {
              "outlinewidth": 0,
              "ticks": ""
             }
            },
            "type": "scatterpolargl"
           }
          ],
          "scatterternary": [
           {
            "marker": {
             "colorbar": {
              "outlinewidth": 0,
              "ticks": ""
             }
            },
            "type": "scatterternary"
           }
          ],
          "surface": [
           {
            "colorbar": {
             "outlinewidth": 0,
             "ticks": ""
            },
            "colorscale": [
             [
              0,
              "#0d0887"
             ],
             [
              0.1111111111111111,
              "#46039f"
             ],
             [
              0.2222222222222222,
              "#7201a8"
             ],
             [
              0.3333333333333333,
              "#9c179e"
             ],
             [
              0.4444444444444444,
              "#bd3786"
             ],
             [
              0.5555555555555556,
              "#d8576b"
             ],
             [
              0.6666666666666666,
              "#ed7953"
             ],
             [
              0.7777777777777778,
              "#fb9f3a"
             ],
             [
              0.8888888888888888,
              "#fdca26"
             ],
             [
              1,
              "#f0f921"
             ]
            ],
            "type": "surface"
           }
          ],
          "table": [
           {
            "cells": {
             "fill": {
              "color": "#EBF0F8"
             },
             "line": {
              "color": "white"
             }
            },
            "header": {
             "fill": {
              "color": "#C8D4E3"
             },
             "line": {
              "color": "white"
             }
            },
            "type": "table"
           }
          ]
         },
         "layout": {
          "annotationdefaults": {
           "arrowcolor": "#2a3f5f",
           "arrowhead": 0,
           "arrowwidth": 1
          },
          "autotypenumbers": "strict",
          "coloraxis": {
           "colorbar": {
            "outlinewidth": 0,
            "ticks": ""
           }
          },
          "colorscale": {
           "diverging": [
            [
             0,
             "#8e0152"
            ],
            [
             0.1,
             "#c51b7d"
            ],
            [
             0.2,
             "#de77ae"
            ],
            [
             0.3,
             "#f1b6da"
            ],
            [
             0.4,
             "#fde0ef"
            ],
            [
             0.5,
             "#f7f7f7"
            ],
            [
             0.6,
             "#e6f5d0"
            ],
            [
             0.7,
             "#b8e186"
            ],
            [
             0.8,
             "#7fbc41"
            ],
            [
             0.9,
             "#4d9221"
            ],
            [
             1,
             "#276419"
            ]
           ],
           "sequential": [
            [
             0,
             "#0d0887"
            ],
            [
             0.1111111111111111,
             "#46039f"
            ],
            [
             0.2222222222222222,
             "#7201a8"
            ],
            [
             0.3333333333333333,
             "#9c179e"
            ],
            [
             0.4444444444444444,
             "#bd3786"
            ],
            [
             0.5555555555555556,
             "#d8576b"
            ],
            [
             0.6666666666666666,
             "#ed7953"
            ],
            [
             0.7777777777777778,
             "#fb9f3a"
            ],
            [
             0.8888888888888888,
             "#fdca26"
            ],
            [
             1,
             "#f0f921"
            ]
           ],
           "sequentialminus": [
            [
             0,
             "#0d0887"
            ],
            [
             0.1111111111111111,
             "#46039f"
            ],
            [
             0.2222222222222222,
             "#7201a8"
            ],
            [
             0.3333333333333333,
             "#9c179e"
            ],
            [
             0.4444444444444444,
             "#bd3786"
            ],
            [
             0.5555555555555556,
             "#d8576b"
            ],
            [
             0.6666666666666666,
             "#ed7953"
            ],
            [
             0.7777777777777778,
             "#fb9f3a"
            ],
            [
             0.8888888888888888,
             "#fdca26"
            ],
            [
             1,
             "#f0f921"
            ]
           ]
          },
          "colorway": [
           "#636efa",
           "#EF553B",
           "#00cc96",
           "#ab63fa",
           "#FFA15A",
           "#19d3f3",
           "#FF6692",
           "#B6E880",
           "#FF97FF",
           "#FECB52"
          ],
          "font": {
           "color": "#2a3f5f"
          },
          "geo": {
           "bgcolor": "white",
           "lakecolor": "white",
           "landcolor": "#E5ECF6",
           "showlakes": true,
           "showland": true,
           "subunitcolor": "white"
          },
          "hoverlabel": {
           "align": "left"
          },
          "hovermode": "closest",
          "mapbox": {
           "style": "light"
          },
          "paper_bgcolor": "white",
          "plot_bgcolor": "#E5ECF6",
          "polar": {
           "angularaxis": {
            "gridcolor": "white",
            "linecolor": "white",
            "ticks": ""
           },
           "bgcolor": "#E5ECF6",
           "radialaxis": {
            "gridcolor": "white",
            "linecolor": "white",
            "ticks": ""
           }
          },
          "scene": {
           "xaxis": {
            "backgroundcolor": "#E5ECF6",
            "gridcolor": "white",
            "gridwidth": 2,
            "linecolor": "white",
            "showbackground": true,
            "ticks": "",
            "zerolinecolor": "white"
           },
           "yaxis": {
            "backgroundcolor": "#E5ECF6",
            "gridcolor": "white",
            "gridwidth": 2,
            "linecolor": "white",
            "showbackground": true,
            "ticks": "",
            "zerolinecolor": "white"
           },
           "zaxis": {
            "backgroundcolor": "#E5ECF6",
            "gridcolor": "white",
            "gridwidth": 2,
            "linecolor": "white",
            "showbackground": true,
            "ticks": "",
            "zerolinecolor": "white"
           }
          },
          "shapedefaults": {
           "line": {
            "color": "#2a3f5f"
           }
          },
          "ternary": {
           "aaxis": {
            "gridcolor": "white",
            "linecolor": "white",
            "ticks": ""
           },
           "baxis": {
            "gridcolor": "white",
            "linecolor": "white",
            "ticks": ""
           },
           "bgcolor": "#E5ECF6",
           "caxis": {
            "gridcolor": "white",
            "linecolor": "white",
            "ticks": ""
           }
          },
          "title": {
           "x": 0.05
          },
          "xaxis": {
           "automargin": true,
           "gridcolor": "white",
           "linecolor": "white",
           "ticks": "",
           "title": {
            "standoff": 15
           },
           "zerolinecolor": "white",
           "zerolinewidth": 2
          },
          "yaxis": {
           "automargin": true,
           "gridcolor": "white",
           "linecolor": "white",
           "ticks": "",
           "title": {
            "standoff": 15
           },
           "zerolinecolor": "white",
           "zerolinewidth": 2
          }
         }
        },
        "xaxis": {
         "anchor": "y",
         "domain": [
          0,
          1
         ],
         "title": {
          "text": "month_year"
         }
        },
        "yaxis": {
         "anchor": "x",
         "domain": [
          0,
          1
         ],
         "title": {
          "text": "sum of individuals"
         }
        }
       }
      }
     },
     "metadata": {},
     "output_type": "display_data"
    }
   ],
   "source": [
    "cdc_infected = expose_month_data['infected', 2020].tolist() + expose_month_data['infected', 2021].tolist()\n",
    "cdc_exposed = expose_month_data['exposed', 2020].tolist() + expose_month_data['exposed', 2021].tolist()\n",
    "\n",
    "type_list = ['infected' for x in range(len(cdc_infected))] + ['exposed' for x in range(len(cdc_exposed))]\n",
    "months = [calendar.month_name[x] + \" 2020\" for x in range(1, len(cdc_exposed) + 1) if x <= 12] +\\\n",
    "         [calendar.month_name[x] + \" 2021\" for x in range(1, len(cdc_exposed) + 1)if x <= 12] \n",
    "\n",
    "\n",
    "combined_data = list(zip(cdc_infected + cdc_exposed, months + months, type_list)) \n",
    "\n",
    "df = pd.DataFrame(combined_data, columns=[\"individuals\", \"month_year\", \"type\"])\n",
    "px.histogram(df, x=\"month_year\", y=\"individuals\", color=\"type\" )       "
   ]
  },
  {
   "cell_type": "markdown",
   "metadata": {},
   "source": [
    "Looking at the graph, we see the similar trends appear here as it did in the NYC OpenData dataset on a much smaller scale. The small red line above each bar denotes the amount of exposed individuals. As we can see, exposure contributed on a small percentage to the overall infection rate. Even if this is the case, we should explore how exposure rate changes over time to understand the effectiveness of lockdowns. To get a clearer understanding, we can take a look at the percentage of individuals who were infected due to exposure. To find the percentage, we just divide the amount of exposed individuals by the amount of infected individuals, and multiply the result by one hundred to get a percentage. Doing that will yield this table below:"
   ]
  },
  {
   "cell_type": "code",
   "execution_count": 46,
   "metadata": {},
   "outputs": [
    {
     "data": {
      "text/html": [
       "<div>\n",
       "<style scoped>\n",
       "    .dataframe tbody tr th:only-of-type {\n",
       "        vertical-align: middle;\n",
       "    }\n",
       "\n",
       "    .dataframe tbody tr th {\n",
       "        vertical-align: top;\n",
       "    }\n",
       "\n",
       "    .dataframe thead th {\n",
       "        text-align: right;\n",
       "    }\n",
       "</style>\n",
       "<table border=\"1\" class=\"dataframe\">\n",
       "  <thead>\n",
       "    <tr style=\"text-align: right;\">\n",
       "      <th>year</th>\n",
       "      <th>2020</th>\n",
       "      <th>2021</th>\n",
       "    </tr>\n",
       "    <tr>\n",
       "      <th>month</th>\n",
       "      <th></th>\n",
       "      <th></th>\n",
       "    </tr>\n",
       "  </thead>\n",
       "  <tbody>\n",
       "    <tr>\n",
       "      <th>1</th>\n",
       "      <td>1.388889</td>\n",
       "      <td>1.312698</td>\n",
       "    </tr>\n",
       "    <tr>\n",
       "      <th>2</th>\n",
       "      <td>1.384615</td>\n",
       "      <td>0.768881</td>\n",
       "    </tr>\n",
       "    <tr>\n",
       "      <th>3</th>\n",
       "      <td>0.035851</td>\n",
       "      <td>0.763818</td>\n",
       "    </tr>\n",
       "    <tr>\n",
       "      <th>4</th>\n",
       "      <td>0.014131</td>\n",
       "      <td>1.303703</td>\n",
       "    </tr>\n",
       "    <tr>\n",
       "      <th>5</th>\n",
       "      <td>0.024551</td>\n",
       "      <td>0.396605</td>\n",
       "    </tr>\n",
       "    <tr>\n",
       "      <th>6</th>\n",
       "      <td>0.126662</td>\n",
       "      <td>2.477114</td>\n",
       "    </tr>\n",
       "    <tr>\n",
       "      <th>7</th>\n",
       "      <td>2.186380</td>\n",
       "      <td>3.638535</td>\n",
       "    </tr>\n",
       "    <tr>\n",
       "      <th>8</th>\n",
       "      <td>4.748685</td>\n",
       "      <td>3.166328</td>\n",
       "    </tr>\n",
       "    <tr>\n",
       "      <th>9</th>\n",
       "      <td>2.703707</td>\n",
       "      <td>2.518625</td>\n",
       "    </tr>\n",
       "    <tr>\n",
       "      <th>10</th>\n",
       "      <td>1.843770</td>\n",
       "      <td>1.696288</td>\n",
       "    </tr>\n",
       "    <tr>\n",
       "      <th>11</th>\n",
       "      <td>1.209171</td>\n",
       "      <td>0.000000</td>\n",
       "    </tr>\n",
       "    <tr>\n",
       "      <th>12</th>\n",
       "      <td>0.765539</td>\n",
       "      <td>0.000000</td>\n",
       "    </tr>\n",
       "  </tbody>\n",
       "</table>\n",
       "</div>"
      ],
      "text/plain": [
       "year       2020      2021\n",
       "month                    \n",
       "1      1.388889  1.312698\n",
       "2      1.384615  0.768881\n",
       "3      0.035851  0.763818\n",
       "4      0.014131  1.303703\n",
       "5      0.024551  0.396605\n",
       "6      0.126662  2.477114\n",
       "7      2.186380  3.638535\n",
       "8      4.748685  3.166328\n",
       "9      2.703707  2.518625\n",
       "10     1.843770  1.696288\n",
       "11     1.209171  0.000000\n",
       "12     0.765539  0.000000"
      ]
     },
     "execution_count": 46,
     "metadata": {},
     "output_type": "execute_result"
    }
   ],
   "source": [
    "expose_month_data['percent_exposed', 2020]= 100 * (expose_month_data['exposed'][2020]  / expose_month_data['infected'][2020])\n",
    "expose_month_data['percent_exposed', 2021]= 100 * (expose_month_data['exposed'][2021]  / expose_month_data['infected'][2021])\n",
    "expose_month_data.fillna(0, inplace=True)\n",
    "expose_month_data['percent_exposed']"
   ]
  },
  {
   "cell_type": "markdown",
   "metadata": {},
   "source": [
    "Graphing these results, we get: "
   ]
  },
  {
   "cell_type": "code",
   "execution_count": 47,
   "metadata": {},
   "outputs": [
    {
     "data": {
      "application/vnd.plotly.v1+json": {
       "config": {
        "plotlyServerURL": "https://plot.ly"
       },
       "data": [
        {
         "alignmentgroup": "True",
         "bingroup": "x",
         "histfunc": "sum",
         "hovertemplate": "month_year=%{x}<br>sum of percent_expose=%{y}<extra></extra>",
         "legendgroup": "",
         "marker": {
          "color": "#636efa",
          "pattern": {
           "shape": ""
          }
         },
         "name": "",
         "offsetgroup": "",
         "orientation": "v",
         "showlegend": false,
         "type": "histogram",
         "x": [
          "January 2020",
          "February 2020",
          "March 2020",
          "April 2020",
          "May 2020",
          "June 2020",
          "July 2020",
          "August 2020",
          "September 2020",
          "October 2020",
          "November 2020",
          "December 2020",
          "January 2021",
          "February 2021",
          "March 2021",
          "April 2021",
          "May 2021",
          "June 2021",
          "July 2021",
          "August 2021",
          "September 2021",
          "October 2021"
         ],
         "xaxis": "x",
         "y": [
          1.3888888888888888,
          1.3846153846153846,
          0.03585147247119078,
          0.014130851686618083,
          0.024550922705511683,
          0.1266624445851805,
          2.186379928315412,
          4.748684979544126,
          2.703707144848091,
          1.8437704560331662,
          1.2091714513859841,
          0.7655387790071027,
          1.3126977874964347,
          0.7688814253878732,
          0.7638181200562916,
          1.3037031987593517,
          0.39660450876704706,
          2.4771136241249323,
          3.638535397620251,
          3.166327568667345,
          2.5186245004686962,
          1.6962879640044992
         ],
         "yaxis": "y"
        }
       ],
       "layout": {
        "barmode": "relative",
        "legend": {
         "tracegroupgap": 0
        },
        "margin": {
         "t": 60
        },
        "template": {
         "data": {
          "bar": [
           {
            "error_x": {
             "color": "#2a3f5f"
            },
            "error_y": {
             "color": "#2a3f5f"
            },
            "marker": {
             "line": {
              "color": "#E5ECF6",
              "width": 0.5
             },
             "pattern": {
              "fillmode": "overlay",
              "size": 10,
              "solidity": 0.2
             }
            },
            "type": "bar"
           }
          ],
          "barpolar": [
           {
            "marker": {
             "line": {
              "color": "#E5ECF6",
              "width": 0.5
             },
             "pattern": {
              "fillmode": "overlay",
              "size": 10,
              "solidity": 0.2
             }
            },
            "type": "barpolar"
           }
          ],
          "carpet": [
           {
            "aaxis": {
             "endlinecolor": "#2a3f5f",
             "gridcolor": "white",
             "linecolor": "white",
             "minorgridcolor": "white",
             "startlinecolor": "#2a3f5f"
            },
            "baxis": {
             "endlinecolor": "#2a3f5f",
             "gridcolor": "white",
             "linecolor": "white",
             "minorgridcolor": "white",
             "startlinecolor": "#2a3f5f"
            },
            "type": "carpet"
           }
          ],
          "choropleth": [
           {
            "colorbar": {
             "outlinewidth": 0,
             "ticks": ""
            },
            "type": "choropleth"
           }
          ],
          "contour": [
           {
            "colorbar": {
             "outlinewidth": 0,
             "ticks": ""
            },
            "colorscale": [
             [
              0,
              "#0d0887"
             ],
             [
              0.1111111111111111,
              "#46039f"
             ],
             [
              0.2222222222222222,
              "#7201a8"
             ],
             [
              0.3333333333333333,
              "#9c179e"
             ],
             [
              0.4444444444444444,
              "#bd3786"
             ],
             [
              0.5555555555555556,
              "#d8576b"
             ],
             [
              0.6666666666666666,
              "#ed7953"
             ],
             [
              0.7777777777777778,
              "#fb9f3a"
             ],
             [
              0.8888888888888888,
              "#fdca26"
             ],
             [
              1,
              "#f0f921"
             ]
            ],
            "type": "contour"
           }
          ],
          "contourcarpet": [
           {
            "colorbar": {
             "outlinewidth": 0,
             "ticks": ""
            },
            "type": "contourcarpet"
           }
          ],
          "heatmap": [
           {
            "colorbar": {
             "outlinewidth": 0,
             "ticks": ""
            },
            "colorscale": [
             [
              0,
              "#0d0887"
             ],
             [
              0.1111111111111111,
              "#46039f"
             ],
             [
              0.2222222222222222,
              "#7201a8"
             ],
             [
              0.3333333333333333,
              "#9c179e"
             ],
             [
              0.4444444444444444,
              "#bd3786"
             ],
             [
              0.5555555555555556,
              "#d8576b"
             ],
             [
              0.6666666666666666,
              "#ed7953"
             ],
             [
              0.7777777777777778,
              "#fb9f3a"
             ],
             [
              0.8888888888888888,
              "#fdca26"
             ],
             [
              1,
              "#f0f921"
             ]
            ],
            "type": "heatmap"
           }
          ],
          "heatmapgl": [
           {
            "colorbar": {
             "outlinewidth": 0,
             "ticks": ""
            },
            "colorscale": [
             [
              0,
              "#0d0887"
             ],
             [
              0.1111111111111111,
              "#46039f"
             ],
             [
              0.2222222222222222,
              "#7201a8"
             ],
             [
              0.3333333333333333,
              "#9c179e"
             ],
             [
              0.4444444444444444,
              "#bd3786"
             ],
             [
              0.5555555555555556,
              "#d8576b"
             ],
             [
              0.6666666666666666,
              "#ed7953"
             ],
             [
              0.7777777777777778,
              "#fb9f3a"
             ],
             [
              0.8888888888888888,
              "#fdca26"
             ],
             [
              1,
              "#f0f921"
             ]
            ],
            "type": "heatmapgl"
           }
          ],
          "histogram": [
           {
            "marker": {
             "pattern": {
              "fillmode": "overlay",
              "size": 10,
              "solidity": 0.2
             }
            },
            "type": "histogram"
           }
          ],
          "histogram2d": [
           {
            "colorbar": {
             "outlinewidth": 0,
             "ticks": ""
            },
            "colorscale": [
             [
              0,
              "#0d0887"
             ],
             [
              0.1111111111111111,
              "#46039f"
             ],
             [
              0.2222222222222222,
              "#7201a8"
             ],
             [
              0.3333333333333333,
              "#9c179e"
             ],
             [
              0.4444444444444444,
              "#bd3786"
             ],
             [
              0.5555555555555556,
              "#d8576b"
             ],
             [
              0.6666666666666666,
              "#ed7953"
             ],
             [
              0.7777777777777778,
              "#fb9f3a"
             ],
             [
              0.8888888888888888,
              "#fdca26"
             ],
             [
              1,
              "#f0f921"
             ]
            ],
            "type": "histogram2d"
           }
          ],
          "histogram2dcontour": [
           {
            "colorbar": {
             "outlinewidth": 0,
             "ticks": ""
            },
            "colorscale": [
             [
              0,
              "#0d0887"
             ],
             [
              0.1111111111111111,
              "#46039f"
             ],
             [
              0.2222222222222222,
              "#7201a8"
             ],
             [
              0.3333333333333333,
              "#9c179e"
             ],
             [
              0.4444444444444444,
              "#bd3786"
             ],
             [
              0.5555555555555556,
              "#d8576b"
             ],
             [
              0.6666666666666666,
              "#ed7953"
             ],
             [
              0.7777777777777778,
              "#fb9f3a"
             ],
             [
              0.8888888888888888,
              "#fdca26"
             ],
             [
              1,
              "#f0f921"
             ]
            ],
            "type": "histogram2dcontour"
           }
          ],
          "mesh3d": [
           {
            "colorbar": {
             "outlinewidth": 0,
             "ticks": ""
            },
            "type": "mesh3d"
           }
          ],
          "parcoords": [
           {
            "line": {
             "colorbar": {
              "outlinewidth": 0,
              "ticks": ""
             }
            },
            "type": "parcoords"
           }
          ],
          "pie": [
           {
            "automargin": true,
            "type": "pie"
           }
          ],
          "scatter": [
           {
            "marker": {
             "colorbar": {
              "outlinewidth": 0,
              "ticks": ""
             }
            },
            "type": "scatter"
           }
          ],
          "scatter3d": [
           {
            "line": {
             "colorbar": {
              "outlinewidth": 0,
              "ticks": ""
             }
            },
            "marker": {
             "colorbar": {
              "outlinewidth": 0,
              "ticks": ""
             }
            },
            "type": "scatter3d"
           }
          ],
          "scattercarpet": [
           {
            "marker": {
             "colorbar": {
              "outlinewidth": 0,
              "ticks": ""
             }
            },
            "type": "scattercarpet"
           }
          ],
          "scattergeo": [
           {
            "marker": {
             "colorbar": {
              "outlinewidth": 0,
              "ticks": ""
             }
            },
            "type": "scattergeo"
           }
          ],
          "scattergl": [
           {
            "marker": {
             "colorbar": {
              "outlinewidth": 0,
              "ticks": ""
             }
            },
            "type": "scattergl"
           }
          ],
          "scattermapbox": [
           {
            "marker": {
             "colorbar": {
              "outlinewidth": 0,
              "ticks": ""
             }
            },
            "type": "scattermapbox"
           }
          ],
          "scatterpolar": [
           {
            "marker": {
             "colorbar": {
              "outlinewidth": 0,
              "ticks": ""
             }
            },
            "type": "scatterpolar"
           }
          ],
          "scatterpolargl": [
           {
            "marker": {
             "colorbar": {
              "outlinewidth": 0,
              "ticks": ""
             }
            },
            "type": "scatterpolargl"
           }
          ],
          "scatterternary": [
           {
            "marker": {
             "colorbar": {
              "outlinewidth": 0,
              "ticks": ""
             }
            },
            "type": "scatterternary"
           }
          ],
          "surface": [
           {
            "colorbar": {
             "outlinewidth": 0,
             "ticks": ""
            },
            "colorscale": [
             [
              0,
              "#0d0887"
             ],
             [
              0.1111111111111111,
              "#46039f"
             ],
             [
              0.2222222222222222,
              "#7201a8"
             ],
             [
              0.3333333333333333,
              "#9c179e"
             ],
             [
              0.4444444444444444,
              "#bd3786"
             ],
             [
              0.5555555555555556,
              "#d8576b"
             ],
             [
              0.6666666666666666,
              "#ed7953"
             ],
             [
              0.7777777777777778,
              "#fb9f3a"
             ],
             [
              0.8888888888888888,
              "#fdca26"
             ],
             [
              1,
              "#f0f921"
             ]
            ],
            "type": "surface"
           }
          ],
          "table": [
           {
            "cells": {
             "fill": {
              "color": "#EBF0F8"
             },
             "line": {
              "color": "white"
             }
            },
            "header": {
             "fill": {
              "color": "#C8D4E3"
             },
             "line": {
              "color": "white"
             }
            },
            "type": "table"
           }
          ]
         },
         "layout": {
          "annotationdefaults": {
           "arrowcolor": "#2a3f5f",
           "arrowhead": 0,
           "arrowwidth": 1
          },
          "autotypenumbers": "strict",
          "coloraxis": {
           "colorbar": {
            "outlinewidth": 0,
            "ticks": ""
           }
          },
          "colorscale": {
           "diverging": [
            [
             0,
             "#8e0152"
            ],
            [
             0.1,
             "#c51b7d"
            ],
            [
             0.2,
             "#de77ae"
            ],
            [
             0.3,
             "#f1b6da"
            ],
            [
             0.4,
             "#fde0ef"
            ],
            [
             0.5,
             "#f7f7f7"
            ],
            [
             0.6,
             "#e6f5d0"
            ],
            [
             0.7,
             "#b8e186"
            ],
            [
             0.8,
             "#7fbc41"
            ],
            [
             0.9,
             "#4d9221"
            ],
            [
             1,
             "#276419"
            ]
           ],
           "sequential": [
            [
             0,
             "#0d0887"
            ],
            [
             0.1111111111111111,
             "#46039f"
            ],
            [
             0.2222222222222222,
             "#7201a8"
            ],
            [
             0.3333333333333333,
             "#9c179e"
            ],
            [
             0.4444444444444444,
             "#bd3786"
            ],
            [
             0.5555555555555556,
             "#d8576b"
            ],
            [
             0.6666666666666666,
             "#ed7953"
            ],
            [
             0.7777777777777778,
             "#fb9f3a"
            ],
            [
             0.8888888888888888,
             "#fdca26"
            ],
            [
             1,
             "#f0f921"
            ]
           ],
           "sequentialminus": [
            [
             0,
             "#0d0887"
            ],
            [
             0.1111111111111111,
             "#46039f"
            ],
            [
             0.2222222222222222,
             "#7201a8"
            ],
            [
             0.3333333333333333,
             "#9c179e"
            ],
            [
             0.4444444444444444,
             "#bd3786"
            ],
            [
             0.5555555555555556,
             "#d8576b"
            ],
            [
             0.6666666666666666,
             "#ed7953"
            ],
            [
             0.7777777777777778,
             "#fb9f3a"
            ],
            [
             0.8888888888888888,
             "#fdca26"
            ],
            [
             1,
             "#f0f921"
            ]
           ]
          },
          "colorway": [
           "#636efa",
           "#EF553B",
           "#00cc96",
           "#ab63fa",
           "#FFA15A",
           "#19d3f3",
           "#FF6692",
           "#B6E880",
           "#FF97FF",
           "#FECB52"
          ],
          "font": {
           "color": "#2a3f5f"
          },
          "geo": {
           "bgcolor": "white",
           "lakecolor": "white",
           "landcolor": "#E5ECF6",
           "showlakes": true,
           "showland": true,
           "subunitcolor": "white"
          },
          "hoverlabel": {
           "align": "left"
          },
          "hovermode": "closest",
          "mapbox": {
           "style": "light"
          },
          "paper_bgcolor": "white",
          "plot_bgcolor": "#E5ECF6",
          "polar": {
           "angularaxis": {
            "gridcolor": "white",
            "linecolor": "white",
            "ticks": ""
           },
           "bgcolor": "#E5ECF6",
           "radialaxis": {
            "gridcolor": "white",
            "linecolor": "white",
            "ticks": ""
           }
          },
          "scene": {
           "xaxis": {
            "backgroundcolor": "#E5ECF6",
            "gridcolor": "white",
            "gridwidth": 2,
            "linecolor": "white",
            "showbackground": true,
            "ticks": "",
            "zerolinecolor": "white"
           },
           "yaxis": {
            "backgroundcolor": "#E5ECF6",
            "gridcolor": "white",
            "gridwidth": 2,
            "linecolor": "white",
            "showbackground": true,
            "ticks": "",
            "zerolinecolor": "white"
           },
           "zaxis": {
            "backgroundcolor": "#E5ECF6",
            "gridcolor": "white",
            "gridwidth": 2,
            "linecolor": "white",
            "showbackground": true,
            "ticks": "",
            "zerolinecolor": "white"
           }
          },
          "shapedefaults": {
           "line": {
            "color": "#2a3f5f"
           }
          },
          "ternary": {
           "aaxis": {
            "gridcolor": "white",
            "linecolor": "white",
            "ticks": ""
           },
           "baxis": {
            "gridcolor": "white",
            "linecolor": "white",
            "ticks": ""
           },
           "bgcolor": "#E5ECF6",
           "caxis": {
            "gridcolor": "white",
            "linecolor": "white",
            "ticks": ""
           }
          },
          "title": {
           "x": 0.05
          },
          "xaxis": {
           "automargin": true,
           "gridcolor": "white",
           "linecolor": "white",
           "ticks": "",
           "title": {
            "standoff": 15
           },
           "zerolinecolor": "white",
           "zerolinewidth": 2
          },
          "yaxis": {
           "automargin": true,
           "gridcolor": "white",
           "linecolor": "white",
           "ticks": "",
           "title": {
            "standoff": 15
           },
           "zerolinecolor": "white",
           "zerolinewidth": 2
          }
         }
        },
        "xaxis": {
         "anchor": "y",
         "domain": [
          0,
          1
         ],
         "title": {
          "text": "month_year"
         }
        },
        "yaxis": {
         "anchor": "x",
         "domain": [
          0,
          1
         ],
         "title": {
          "text": "sum of percent_expose"
         }
        }
       }
      }
     },
     "metadata": {},
     "output_type": "display_data"
    }
   ],
   "source": [
    "percent_expose_2020 = expose_month_data[('percent_exposed', 2020)].tolist()\n",
    "percent_expose_2021 = expose_month_data[('percent_exposed', 2021)].tolist()\n",
    "\n",
    "months = [calendar.month_name[x] + \" 2020\" for x in range(1, len(percent_expose_2020) + 1) if x <= 12] +\\\n",
    "         [calendar.month_name[x] + \" 2021\" for x in range(1, len(percent_expose_2021) + 1)if x <= 12] \n",
    "\n",
    "combined_data = list(zip(percent_expose_2020 + percent_expose_2021, months)) [:-2]\n",
    "\n",
    "df = pd.DataFrame(combined_data, columns=[\"percent_expose\", \"month_year\"])\n",
    "px.histogram(df, x='month_year', y='percent_expose')\n"
   ]
  },
  {
   "cell_type": "markdown",
   "metadata": {},
   "source": [
    "Looking at the graph, we see that exposure rate was at its lowest during April to June of 2020 which was during the same period that NYC was in lockdown. The exposure rate started to rise during the summer of 2020 and 2021 which makes sense as that is when people are more likely to go outside as well as the fact that lockdown measures were slowly being lifted.  "
   ]
  },
  {
   "cell_type": "markdown",
   "metadata": {},
   "source": [
    "### T-test\n",
    "To determine if the lockdown had a major impact, we can run something called a [t-test](https://www.investopedia.com/terms/t/t-test.asp) to determine if that period from March to June is statisically significant compared to rest of the data. To start we must first setup our null hypothesis. The null hypothesis as the name implies is the opposite of our hypothesis so in this case, our null hypotheis is that there is no statisical difference between the data found between March through June and the rest of the data. We would also need to setup our threshold or p-value, that is if the value returned from our t-test is greater than such threshold we have chosen, we can safely rejected the null hypothesis. In this case our threshold will be a p-value = 0.05 or 5%. \n",
    "\n",
    "Sepearting out the data and running the t-test, "
   ]
  },
  {
   "cell_type": "code",
   "execution_count": 48,
   "metadata": {},
   "outputs": [
    {
     "name": "stdout",
     "output_type": "stream",
     "text": [
      "Our p-value is equal to 2.4486e-06 percent.\n"
     ]
    }
   ],
   "source": [
    "from scipy.stats import ttest_ind\n",
    "\n",
    "period_expose = percent_expose_2020[2:6] #data from March to June\n",
    "rest_expose = percent_expose_2020[0:2] + percent_expose_2020[6:] + percent_expose_2021[:-2]\n",
    "ttest = ttest_ind(period_expose, rest_expose, equal_var=False)\n",
    "statistic, pvalue = ttest\n",
    "print(f\"Our p-value is equal to {round(pvalue, 10)} percent.\")"
   ]
  },
  {
   "cell_type": "markdown",
   "metadata": {},
   "source": [
    "Since the p-value returned from our t-test is much lower than our threshold p-value, we can reject the null hypothesis and safely say that the data from the  period of March through June is statisically significant. While we have proven statisitical significance, it is difficult to still attribute this significance to the lockdowns due to the limitations of what the CDC defines as exposure but this is still a great start for our exploration.   "
   ]
  },
  {
   "cell_type": "markdown",
   "metadata": {},
   "source": [
    "## CDC Vaccinaton Dataset\n",
    "---\n",
    "\n",
    "After the start of 2021, the COVID-19 vaccine became available to the general public. Vaccinatons were first adminstered to front-line healthcare workers as they were most at risk of getting infected and slowly became availiable to the general public. As a student of data science, it is difficult for me to speak on the effectiveness of the vaccine from a scientific point of view, but what we can still take a look at how the COVID-19 vaccine impacted the infection rate.\n",
    "\n",
    "Luckily, the CDC provides vaccination data for the entire country and the dataset can be found [here](https://data.cdc.gov/Vaccinations/COVID-19-Vaccinations-in-the-United-States-County/8xkx-amqh). Filtering the dataset to only include NYC and using pandas to read the dataset, we get this table:\n"
   ]
  },
  {
   "cell_type": "code",
   "execution_count": 49,
   "metadata": {},
   "outputs": [
    {
     "data": {
      "text/html": [
       "<div>\n",
       "<style scoped>\n",
       "    .dataframe tbody tr th:only-of-type {\n",
       "        vertical-align: middle;\n",
       "    }\n",
       "\n",
       "    .dataframe tbody tr th {\n",
       "        vertical-align: top;\n",
       "    }\n",
       "\n",
       "    .dataframe thead th {\n",
       "        text-align: right;\n",
       "    }\n",
       "</style>\n",
       "<table border=\"1\" class=\"dataframe\">\n",
       "  <thead>\n",
       "    <tr style=\"text-align: right;\">\n",
       "      <th></th>\n",
       "      <th>Date</th>\n",
       "      <th>FIPS</th>\n",
       "      <th>MMWR_week</th>\n",
       "      <th>Recip_County</th>\n",
       "      <th>Recip_State</th>\n",
       "      <th>Series_Complete_Pop_Pct</th>\n",
       "      <th>Series_Complete_Yes</th>\n",
       "      <th>Series_Complete_12Plus</th>\n",
       "      <th>Series_Complete_12PlusPop_Pct</th>\n",
       "      <th>Series_Complete_18Plus</th>\n",
       "      <th>...</th>\n",
       "      <th>SVI_CTGY</th>\n",
       "      <th>Series_Complete_Pop_Pct_SVI</th>\n",
       "      <th>Series_Complete_12PlusPop_Pct_SVI</th>\n",
       "      <th>Series_Complete_18PlusPop_Pct_SVI</th>\n",
       "      <th>Series_Complete_65PlusPop_Pct_SVI</th>\n",
       "      <th>Metro_status</th>\n",
       "      <th>Series_Complete_Pop_Pct_UR_Equity</th>\n",
       "      <th>Series_Complete_12PlusPop_Pct_UR_Equity</th>\n",
       "      <th>Series_Complete_18PlusPop_Pct_UR_Equity</th>\n",
       "      <th>Series_Complete_65PlusPop_Pct_UR_Equity</th>\n",
       "    </tr>\n",
       "  </thead>\n",
       "  <tbody>\n",
       "    <tr>\n",
       "      <th>0</th>\n",
       "      <td>11/16/2021</td>\n",
       "      <td>36047</td>\n",
       "      <td>46</td>\n",
       "      <td>Kings County</td>\n",
       "      <td>NY</td>\n",
       "      <td>61.1</td>\n",
       "      <td>1564315</td>\n",
       "      <td>1564160</td>\n",
       "      <td>72.6</td>\n",
       "      <td>1467479</td>\n",
       "      <td>...</td>\n",
       "      <td>D</td>\n",
       "      <td>16.0</td>\n",
       "      <td>16.0</td>\n",
       "      <td>16.0</td>\n",
       "      <td>16.0</td>\n",
       "      <td>Metro</td>\n",
       "      <td>4.0</td>\n",
       "      <td>4.0</td>\n",
       "      <td>4.0</td>\n",
       "      <td>4.0</td>\n",
       "    </tr>\n",
       "    <tr>\n",
       "      <th>1</th>\n",
       "      <td>11/16/2021</td>\n",
       "      <td>36061</td>\n",
       "      <td>46</td>\n",
       "      <td>New York County</td>\n",
       "      <td>NY</td>\n",
       "      <td>74.9</td>\n",
       "      <td>1219561</td>\n",
       "      <td>1219437</td>\n",
       "      <td>83.3</td>\n",
       "      <td>1162992</td>\n",
       "      <td>...</td>\n",
       "      <td>C</td>\n",
       "      <td>12.0</td>\n",
       "      <td>12.0</td>\n",
       "      <td>12.0</td>\n",
       "      <td>12.0</td>\n",
       "      <td>Metro</td>\n",
       "      <td>4.0</td>\n",
       "      <td>4.0</td>\n",
       "      <td>4.0</td>\n",
       "      <td>4.0</td>\n",
       "    </tr>\n",
       "    <tr>\n",
       "      <th>2</th>\n",
       "      <td>11/16/2021</td>\n",
       "      <td>36005</td>\n",
       "      <td>46</td>\n",
       "      <td>Bronx County</td>\n",
       "      <td>NY</td>\n",
       "      <td>62.6</td>\n",
       "      <td>887632</td>\n",
       "      <td>887553</td>\n",
       "      <td>75.2</td>\n",
       "      <td>816533</td>\n",
       "      <td>...</td>\n",
       "      <td>D</td>\n",
       "      <td>16.0</td>\n",
       "      <td>16.0</td>\n",
       "      <td>16.0</td>\n",
       "      <td>16.0</td>\n",
       "      <td>Metro</td>\n",
       "      <td>4.0</td>\n",
       "      <td>4.0</td>\n",
       "      <td>4.0</td>\n",
       "      <td>4.0</td>\n",
       "    </tr>\n",
       "    <tr>\n",
       "      <th>3</th>\n",
       "      <td>11/16/2021</td>\n",
       "      <td>36085</td>\n",
       "      <td>46</td>\n",
       "      <td>Richmond County</td>\n",
       "      <td>NY</td>\n",
       "      <td>64.3</td>\n",
       "      <td>306292</td>\n",
       "      <td>306260</td>\n",
       "      <td>74.9</td>\n",
       "      <td>285961</td>\n",
       "      <td>...</td>\n",
       "      <td>B</td>\n",
       "      <td>8.0</td>\n",
       "      <td>8.0</td>\n",
       "      <td>8.0</td>\n",
       "      <td>8.0</td>\n",
       "      <td>Metro</td>\n",
       "      <td>4.0</td>\n",
       "      <td>4.0</td>\n",
       "      <td>4.0</td>\n",
       "      <td>4.0</td>\n",
       "    </tr>\n",
       "    <tr>\n",
       "      <th>4</th>\n",
       "      <td>11/16/2021</td>\n",
       "      <td>36081</td>\n",
       "      <td>46</td>\n",
       "      <td>Queens County</td>\n",
       "      <td>NY</td>\n",
       "      <td>75.1</td>\n",
       "      <td>1693016</td>\n",
       "      <td>1692929</td>\n",
       "      <td>87.1</td>\n",
       "      <td>1578493</td>\n",
       "      <td>...</td>\n",
       "      <td>C</td>\n",
       "      <td>12.0</td>\n",
       "      <td>12.0</td>\n",
       "      <td>12.0</td>\n",
       "      <td>12.0</td>\n",
       "      <td>Metro</td>\n",
       "      <td>4.0</td>\n",
       "      <td>4.0</td>\n",
       "      <td>4.0</td>\n",
       "      <td>4.0</td>\n",
       "    </tr>\n",
       "  </tbody>\n",
       "</table>\n",
       "<p>5 rows × 32 columns</p>\n",
       "</div>"
      ],
      "text/plain": [
       "         Date   FIPS  MMWR_week     Recip_County Recip_State  \\\n",
       "0  11/16/2021  36047         46     Kings County          NY   \n",
       "1  11/16/2021  36061         46  New York County          NY   \n",
       "2  11/16/2021  36005         46     Bronx County          NY   \n",
       "3  11/16/2021  36085         46  Richmond County          NY   \n",
       "4  11/16/2021  36081         46    Queens County          NY   \n",
       "\n",
       "   Series_Complete_Pop_Pct  Series_Complete_Yes  Series_Complete_12Plus  \\\n",
       "0                     61.1              1564315                 1564160   \n",
       "1                     74.9              1219561                 1219437   \n",
       "2                     62.6               887632                  887553   \n",
       "3                     64.3               306292                  306260   \n",
       "4                     75.1              1693016                 1692929   \n",
       "\n",
       "   Series_Complete_12PlusPop_Pct  Series_Complete_18Plus  ...  SVI_CTGY  \\\n",
       "0                           72.6                 1467479  ...         D   \n",
       "1                           83.3                 1162992  ...         C   \n",
       "2                           75.2                  816533  ...         D   \n",
       "3                           74.9                  285961  ...         B   \n",
       "4                           87.1                 1578493  ...         C   \n",
       "\n",
       "   Series_Complete_Pop_Pct_SVI  Series_Complete_12PlusPop_Pct_SVI  \\\n",
       "0                         16.0                               16.0   \n",
       "1                         12.0                               12.0   \n",
       "2                         16.0                               16.0   \n",
       "3                          8.0                                8.0   \n",
       "4                         12.0                               12.0   \n",
       "\n",
       "   Series_Complete_18PlusPop_Pct_SVI  Series_Complete_65PlusPop_Pct_SVI  \\\n",
       "0                               16.0                               16.0   \n",
       "1                               12.0                               12.0   \n",
       "2                               16.0                               16.0   \n",
       "3                                8.0                                8.0   \n",
       "4                               12.0                               12.0   \n",
       "\n",
       "   Metro_status  Series_Complete_Pop_Pct_UR_Equity  \\\n",
       "0         Metro                                4.0   \n",
       "1         Metro                                4.0   \n",
       "2         Metro                                4.0   \n",
       "3         Metro                                4.0   \n",
       "4         Metro                                4.0   \n",
       "\n",
       "   Series_Complete_12PlusPop_Pct_UR_Equity  \\\n",
       "0                                      4.0   \n",
       "1                                      4.0   \n",
       "2                                      4.0   \n",
       "3                                      4.0   \n",
       "4                                      4.0   \n",
       "\n",
       "   Series_Complete_18PlusPop_Pct_UR_Equity  \\\n",
       "0                                      4.0   \n",
       "1                                      4.0   \n",
       "2                                      4.0   \n",
       "3                                      4.0   \n",
       "4                                      4.0   \n",
       "\n",
       "   Series_Complete_65PlusPop_Pct_UR_Equity  \n",
       "0                                      4.0  \n",
       "1                                      4.0  \n",
       "2                                      4.0  \n",
       "3                                      4.0  \n",
       "4                                      4.0  \n",
       "\n",
       "[5 rows x 32 columns]"
      ]
     },
     "execution_count": 49,
     "metadata": {},
     "output_type": "execute_result"
    }
   ],
   "source": [
    "covid_vaccine_nyc = pd.read_csv(\"nyc_vaccine.csv\")\n",
    "covid_vaccine_nyc.dropna(inplace=True)\n",
    "covid_vaccine_nyc.head()"
   ]
  },
  {
   "cell_type": "markdown",
   "metadata": {},
   "source": [
    "From this dataset, the two columns that are of interest to us is the `Date` and the `Series_Complete_Yes` columns. From the CDC website, `Series_Complete_Yes` refers to the *total number of people who are fully vaccinated (have second dose of a two-dose vaccine or one dose of a single-dose vaccine) based on the jurisdiction and county where recipient lives*."
   ]
  },
  {
   "cell_type": "markdown",
   "metadata": {},
   "source": [
    "We can then group our data by the `Date` to see how many individuals were vaccinated on a specific date. If we then take our infection data from the NYC OpenData dataset, we can merge the two together. Through merging the two datasets, we get back the number of individuals that were fully vaccinated and the number of individuals infected on the same day. "
   ]
  },
  {
   "cell_type": "code",
   "execution_count": 50,
   "metadata": {},
   "outputs": [
    {
     "data": {
      "text/html": [
       "<div>\n",
       "<style scoped>\n",
       "    .dataframe tbody tr th:only-of-type {\n",
       "        vertical-align: middle;\n",
       "    }\n",
       "\n",
       "    .dataframe tbody tr th {\n",
       "        vertical-align: top;\n",
       "    }\n",
       "\n",
       "    .dataframe thead th {\n",
       "        text-align: right;\n",
       "    }\n",
       "</style>\n",
       "<table border=\"1\" class=\"dataframe\">\n",
       "  <thead>\n",
       "    <tr style=\"text-align: right;\">\n",
       "      <th></th>\n",
       "      <th>Series_Complete_Yes</th>\n",
       "      <th>Number_confirmed</th>\n",
       "    </tr>\n",
       "    <tr>\n",
       "      <th>Date</th>\n",
       "      <th></th>\n",
       "      <th></th>\n",
       "    </tr>\n",
       "  </thead>\n",
       "  <tbody>\n",
       "    <tr>\n",
       "      <th>2021-01-08</th>\n",
       "      <td>4140</td>\n",
       "      <td>883725.0</td>\n",
       "    </tr>\n",
       "    <tr>\n",
       "      <th>2021-01-09</th>\n",
       "      <td>8802</td>\n",
       "      <td>615169.0</td>\n",
       "    </tr>\n",
       "    <tr>\n",
       "      <th>2021-01-10</th>\n",
       "      <td>10070</td>\n",
       "      <td>516082.0</td>\n",
       "    </tr>\n",
       "    <tr>\n",
       "      <th>2021-01-11</th>\n",
       "      <td>10556</td>\n",
       "      <td>919924.0</td>\n",
       "    </tr>\n",
       "    <tr>\n",
       "      <th>2021-01-12</th>\n",
       "      <td>18608</td>\n",
       "      <td>837443.0</td>\n",
       "    </tr>\n",
       "  </tbody>\n",
       "</table>\n",
       "</div>"
      ],
      "text/plain": [
       "            Series_Complete_Yes  Number_confirmed\n",
       "Date                                             \n",
       "2021-01-08                 4140          883725.0\n",
       "2021-01-09                 8802          615169.0\n",
       "2021-01-10                10070          516082.0\n",
       "2021-01-11                10556          919924.0\n",
       "2021-01-12                18608          837443.0"
      ]
     },
     "execution_count": 50,
     "metadata": {},
     "output_type": "execute_result"
    }
   ],
   "source": [
    "infect_by_day = covid_infections.groupby(['Date']).agg({\"Number_confirmed\": \"sum\"})\n",
    "\n",
    "covid_vaccine_nyc['Date'] = pd.to_datetime(covid_vaccine_nyc['Date'], format=\"%m/%d/%Y\")\n",
    "vax_per_day = covid_vaccine_nyc.groupby(['Date']).agg({\"Series_Complete_Yes\": \"sum\"})\n",
    "\n",
    "joined_data = vax_per_day.merge(infect_by_day, how =\"left\" ,on = \"Date\")\n",
    "joined_data = joined_data[joined_data['Series_Complete_Yes'] > 0]\n",
    "joined_data.dropna(inplace=True)\n",
    "joined_data.head()"
   ]
  },
  {
   "cell_type": "markdown",
   "metadata": {},
   "source": [
    "To visualize this table more clearly, we can plot the data points onto a scatterplot. "
   ]
  },
  {
   "cell_type": "code",
   "execution_count": 51,
   "metadata": {},
   "outputs": [
    {
     "data": {
      "application/vnd.plotly.v1+json": {
       "config": {
        "plotlyServerURL": "https://plot.ly"
       },
       "data": [
        {
         "hovertemplate": "Number of vaccinated individuals (millions)=%{x}<br>Number of infected individuals (millions)=%{y}<extra></extra>",
         "legendgroup": "",
         "marker": {
          "color": "#636efa",
          "symbol": "circle"
         },
         "mode": "markers",
         "name": "",
         "orientation": "v",
         "showlegend": false,
         "type": "scatter",
         "x": [
          4140,
          8802,
          10070,
          10556,
          18608,
          23819,
          29241,
          29650,
          37432,
          39816,
          40741,
          41399,
          47642,
          54751,
          60885,
          65698,
          68110,
          70014,
          77734,
          84623,
          93504,
          102641,
          111416,
          115413,
          118054,
          122006,
          127670,
          139147,
          155327,
          170759,
          180004,
          187336,
          205072,
          224732,
          246486,
          269544,
          292766,
          311195,
          312432,
          338222,
          354731,
          371871,
          392710,
          411577,
          431681,
          445297,
          455336,
          465088,
          478576,
          500788,
          526243,
          547102,
          562222,
          577037,
          588090,
          599772,
          617171,
          638886,
          659609,
          674844,
          692102,
          708080,
          725218,
          727768,
          749873,
          770817,
          795636,
          816900,
          838638,
          862124,
          890618,
          918830,
          944234,
          981450,
          1017852,
          1046703,
          1084161,
          1127966,
          1171802,
          1211459,
          1233727,
          1268676,
          1311995,
          1342884,
          1413289,
          1469520,
          1515487,
          1534070,
          1577569,
          1587101,
          1626031,
          1672340,
          1730079,
          1782818,
          1823908,
          1867765,
          1901552,
          1933866,
          1977601,
          2031790,
          2075867,
          2107238,
          2132994,
          2158940,
          2188300,
          2226470,
          2266695,
          2304145,
          2336221,
          2365639,
          2415346,
          2479911,
          2534241,
          2584855,
          2623270,
          2654114,
          2689998,
          2736945,
          2788791,
          2833701,
          2888252,
          2944996,
          2992714,
          3027356,
          3068426,
          3105240,
          3144030,
          3186196,
          3227075,
          3249460,
          3273141,
          3308668,
          3339881,
          3380683,
          3410144,
          3445078,
          3462681,
          3483288,
          3507439,
          3530475,
          3554371,
          3583241,
          3606876,
          3621132,
          3629582,
          3646746,
          3668781,
          3690924,
          3720288,
          3748676,
          3767439,
          3784262,
          3810301,
          3841844,
          3866126,
          3893043,
          3914429,
          3928231,
          3930053,
          3973654,
          3999885,
          4016682,
          4040516,
          4057732,
          4074042,
          4084447,
          4097126,
          4116055,
          4132629,
          4156475,
          4207283,
          4215088,
          4225839,
          4237144,
          4252859,
          4253842,
          4283185,
          4294763,
          4300513,
          4304884,
          4316466,
          4329725,
          4340421,
          4352167,
          4365530,
          4372780,
          4380322,
          4389814,
          4402046,
          4412162,
          4421802,
          4430868,
          4440332,
          4447811,
          4457952,
          4467885,
          4477294,
          4488541,
          4490213,
          4495840,
          4509007,
          4520137,
          4528327,
          4537470,
          4547437,
          4557480,
          4562996,
          4568959,
          4576886,
          4587702,
          4599000,
          4607083,
          4617576,
          4621844,
          4630033,
          4638788,
          4646667,
          4659827,
          4669805,
          4677848,
          4686210,
          4694167,
          4703790,
          4714888,
          4726550,
          4737569,
          4749296,
          4755065,
          4763520,
          4775920,
          4788195,
          4802424,
          4816736,
          4830427,
          4841221,
          4854341,
          4870056,
          4886654,
          4906436,
          4922500,
          4935689,
          4946917,
          4953040,
          4963908,
          4978239,
          4998738,
          5012965,
          5029459,
          5037984,
          5047119,
          5060064,
          5075581,
          5091783,
          5107399,
          5122666,
          5131811,
          5140331,
          5154326,
          5168758,
          5181937,
          5196465,
          5210824,
          5219854,
          5228637
         ],
         "xaxis": "x",
         "y": [
          883725,
          615169,
          516082,
          919924,
          837443,
          821949,
          852723,
          746554,
          552893,
          437441,
          691734,
          770220,
          723324,
          712910,
          697785,
          486690,
          394625,
          790751,
          680857,
          665244,
          657357,
          523276,
          384664,
          391165,
          123885,
          326028,
          641549,
          620422,
          547451,
          406429,
          225527,
          574120,
          486484,
          484292,
          435237,
          414905,
          290811,
          230922,
          361283,
          438891,
          397968,
          235641,
          357536,
          286528,
          251849,
          416636,
          411672,
          392360,
          414514,
          385265,
          243607,
          214106,
          395908,
          329158,
          355532,
          325214,
          321403,
          230836,
          194447,
          348666,
          346212,
          319931,
          320850,
          318511,
          229788,
          191677,
          314151,
          307872,
          300336,
          279798,
          288822,
          214443,
          199251,
          350433,
          291313,
          306852,
          328614,
          305667,
          208508,
          158522,
          307969,
          276589,
          294141,
          260918,
          239352,
          190196,
          133975,
          269176,
          248859,
          238267,
          211430,
          193298,
          150112,
          107273,
          199210,
          183949,
          172830,
          164353,
          146813,
          100769,
          90135,
          141722,
          126030,
          113122,
          99642,
          96230,
          65909,
          59440,
          106080,
          91297,
          92678,
          81473,
          68527,
          44659,
          40489,
          69266,
          62268,
          53199,
          51466,
          52701,
          27346,
          21300,
          43616,
          44378,
          40360,
          32091,
          33776,
          18573,
          19422,
          29337,
          26068,
          24425,
          27128,
          24585,
          16179,
          12044,
          19472,
          21512,
          16899,
          16979,
          14659,
          9080,
          7802,
          6009,
          18449,
          14662,
          12668,
          12855,
          7594,
          7014,
          13835,
          10350,
          11743,
          9722,
          9578,
          6869,
          5863,
          8661,
          10703,
          9433,
          8984,
          8052,
          5348,
          4965,
          7564,
          8859,
          9945,
          6752,
          8678,
          5724,
          4509,
          9979,
          8389,
          9207,
          8750,
          8706,
          4872,
          4686,
          7782,
          14606,
          15069,
          13039,
          13363,
          7371,
          8039,
          16309,
          14227,
          17111,
          17759,
          16627,
          11885,
          10606,
          20692,
          17849,
          20940,
          25781,
          23461,
          14381,
          16102,
          28390,
          31038,
          28655,
          29177,
          29048,
          20640,
          19007,
          33222,
          34268,
          34011,
          31635,
          31044,
          21762,
          21103,
          35340,
          31368,
          32965,
          30798,
          26652,
          16875,
          19169,
          30671,
          28058,
          27841,
          24696,
          23365,
          17323,
          10624,
          25666,
          22720,
          22653,
          19504,
          16853,
          11420,
          11551,
          18214,
          15218,
          14150,
          13352,
          12083,
          8272,
          8084,
          7502,
          10302,
          11235,
          10954,
          9186,
          6753,
          7118,
          9152,
          7833,
          7281,
          6035,
          6635,
          4021,
          3908,
          5151,
          3569,
          3435,
          2312,
          1757,
          952,
          659,
          304,
          9
         ],
         "yaxis": "y"
        }
       ],
       "layout": {
        "legend": {
         "tracegroupgap": 0
        },
        "template": {
         "data": {
          "bar": [
           {
            "error_x": {
             "color": "#2a3f5f"
            },
            "error_y": {
             "color": "#2a3f5f"
            },
            "marker": {
             "line": {
              "color": "#E5ECF6",
              "width": 0.5
             },
             "pattern": {
              "fillmode": "overlay",
              "size": 10,
              "solidity": 0.2
             }
            },
            "type": "bar"
           }
          ],
          "barpolar": [
           {
            "marker": {
             "line": {
              "color": "#E5ECF6",
              "width": 0.5
             },
             "pattern": {
              "fillmode": "overlay",
              "size": 10,
              "solidity": 0.2
             }
            },
            "type": "barpolar"
           }
          ],
          "carpet": [
           {
            "aaxis": {
             "endlinecolor": "#2a3f5f",
             "gridcolor": "white",
             "linecolor": "white",
             "minorgridcolor": "white",
             "startlinecolor": "#2a3f5f"
            },
            "baxis": {
             "endlinecolor": "#2a3f5f",
             "gridcolor": "white",
             "linecolor": "white",
             "minorgridcolor": "white",
             "startlinecolor": "#2a3f5f"
            },
            "type": "carpet"
           }
          ],
          "choropleth": [
           {
            "colorbar": {
             "outlinewidth": 0,
             "ticks": ""
            },
            "type": "choropleth"
           }
          ],
          "contour": [
           {
            "colorbar": {
             "outlinewidth": 0,
             "ticks": ""
            },
            "colorscale": [
             [
              0,
              "#0d0887"
             ],
             [
              0.1111111111111111,
              "#46039f"
             ],
             [
              0.2222222222222222,
              "#7201a8"
             ],
             [
              0.3333333333333333,
              "#9c179e"
             ],
             [
              0.4444444444444444,
              "#bd3786"
             ],
             [
              0.5555555555555556,
              "#d8576b"
             ],
             [
              0.6666666666666666,
              "#ed7953"
             ],
             [
              0.7777777777777778,
              "#fb9f3a"
             ],
             [
              0.8888888888888888,
              "#fdca26"
             ],
             [
              1,
              "#f0f921"
             ]
            ],
            "type": "contour"
           }
          ],
          "contourcarpet": [
           {
            "colorbar": {
             "outlinewidth": 0,
             "ticks": ""
            },
            "type": "contourcarpet"
           }
          ],
          "heatmap": [
           {
            "colorbar": {
             "outlinewidth": 0,
             "ticks": ""
            },
            "colorscale": [
             [
              0,
              "#0d0887"
             ],
             [
              0.1111111111111111,
              "#46039f"
             ],
             [
              0.2222222222222222,
              "#7201a8"
             ],
             [
              0.3333333333333333,
              "#9c179e"
             ],
             [
              0.4444444444444444,
              "#bd3786"
             ],
             [
              0.5555555555555556,
              "#d8576b"
             ],
             [
              0.6666666666666666,
              "#ed7953"
             ],
             [
              0.7777777777777778,
              "#fb9f3a"
             ],
             [
              0.8888888888888888,
              "#fdca26"
             ],
             [
              1,
              "#f0f921"
             ]
            ],
            "type": "heatmap"
           }
          ],
          "heatmapgl": [
           {
            "colorbar": {
             "outlinewidth": 0,
             "ticks": ""
            },
            "colorscale": [
             [
              0,
              "#0d0887"
             ],
             [
              0.1111111111111111,
              "#46039f"
             ],
             [
              0.2222222222222222,
              "#7201a8"
             ],
             [
              0.3333333333333333,
              "#9c179e"
             ],
             [
              0.4444444444444444,
              "#bd3786"
             ],
             [
              0.5555555555555556,
              "#d8576b"
             ],
             [
              0.6666666666666666,
              "#ed7953"
             ],
             [
              0.7777777777777778,
              "#fb9f3a"
             ],
             [
              0.8888888888888888,
              "#fdca26"
             ],
             [
              1,
              "#f0f921"
             ]
            ],
            "type": "heatmapgl"
           }
          ],
          "histogram": [
           {
            "marker": {
             "pattern": {
              "fillmode": "overlay",
              "size": 10,
              "solidity": 0.2
             }
            },
            "type": "histogram"
           }
          ],
          "histogram2d": [
           {
            "colorbar": {
             "outlinewidth": 0,
             "ticks": ""
            },
            "colorscale": [
             [
              0,
              "#0d0887"
             ],
             [
              0.1111111111111111,
              "#46039f"
             ],
             [
              0.2222222222222222,
              "#7201a8"
             ],
             [
              0.3333333333333333,
              "#9c179e"
             ],
             [
              0.4444444444444444,
              "#bd3786"
             ],
             [
              0.5555555555555556,
              "#d8576b"
             ],
             [
              0.6666666666666666,
              "#ed7953"
             ],
             [
              0.7777777777777778,
              "#fb9f3a"
             ],
             [
              0.8888888888888888,
              "#fdca26"
             ],
             [
              1,
              "#f0f921"
             ]
            ],
            "type": "histogram2d"
           }
          ],
          "histogram2dcontour": [
           {
            "colorbar": {
             "outlinewidth": 0,
             "ticks": ""
            },
            "colorscale": [
             [
              0,
              "#0d0887"
             ],
             [
              0.1111111111111111,
              "#46039f"
             ],
             [
              0.2222222222222222,
              "#7201a8"
             ],
             [
              0.3333333333333333,
              "#9c179e"
             ],
             [
              0.4444444444444444,
              "#bd3786"
             ],
             [
              0.5555555555555556,
              "#d8576b"
             ],
             [
              0.6666666666666666,
              "#ed7953"
             ],
             [
              0.7777777777777778,
              "#fb9f3a"
             ],
             [
              0.8888888888888888,
              "#fdca26"
             ],
             [
              1,
              "#f0f921"
             ]
            ],
            "type": "histogram2dcontour"
           }
          ],
          "mesh3d": [
           {
            "colorbar": {
             "outlinewidth": 0,
             "ticks": ""
            },
            "type": "mesh3d"
           }
          ],
          "parcoords": [
           {
            "line": {
             "colorbar": {
              "outlinewidth": 0,
              "ticks": ""
             }
            },
            "type": "parcoords"
           }
          ],
          "pie": [
           {
            "automargin": true,
            "type": "pie"
           }
          ],
          "scatter": [
           {
            "marker": {
             "colorbar": {
              "outlinewidth": 0,
              "ticks": ""
             }
            },
            "type": "scatter"
           }
          ],
          "scatter3d": [
           {
            "line": {
             "colorbar": {
              "outlinewidth": 0,
              "ticks": ""
             }
            },
            "marker": {
             "colorbar": {
              "outlinewidth": 0,
              "ticks": ""
             }
            },
            "type": "scatter3d"
           }
          ],
          "scattercarpet": [
           {
            "marker": {
             "colorbar": {
              "outlinewidth": 0,
              "ticks": ""
             }
            },
            "type": "scattercarpet"
           }
          ],
          "scattergeo": [
           {
            "marker": {
             "colorbar": {
              "outlinewidth": 0,
              "ticks": ""
             }
            },
            "type": "scattergeo"
           }
          ],
          "scattergl": [
           {
            "marker": {
             "colorbar": {
              "outlinewidth": 0,
              "ticks": ""
             }
            },
            "type": "scattergl"
           }
          ],
          "scattermapbox": [
           {
            "marker": {
             "colorbar": {
              "outlinewidth": 0,
              "ticks": ""
             }
            },
            "type": "scattermapbox"
           }
          ],
          "scatterpolar": [
           {
            "marker": {
             "colorbar": {
              "outlinewidth": 0,
              "ticks": ""
             }
            },
            "type": "scatterpolar"
           }
          ],
          "scatterpolargl": [
           {
            "marker": {
             "colorbar": {
              "outlinewidth": 0,
              "ticks": ""
             }
            },
            "type": "scatterpolargl"
           }
          ],
          "scatterternary": [
           {
            "marker": {
             "colorbar": {
              "outlinewidth": 0,
              "ticks": ""
             }
            },
            "type": "scatterternary"
           }
          ],
          "surface": [
           {
            "colorbar": {
             "outlinewidth": 0,
             "ticks": ""
            },
            "colorscale": [
             [
              0,
              "#0d0887"
             ],
             [
              0.1111111111111111,
              "#46039f"
             ],
             [
              0.2222222222222222,
              "#7201a8"
             ],
             [
              0.3333333333333333,
              "#9c179e"
             ],
             [
              0.4444444444444444,
              "#bd3786"
             ],
             [
              0.5555555555555556,
              "#d8576b"
             ],
             [
              0.6666666666666666,
              "#ed7953"
             ],
             [
              0.7777777777777778,
              "#fb9f3a"
             ],
             [
              0.8888888888888888,
              "#fdca26"
             ],
             [
              1,
              "#f0f921"
             ]
            ],
            "type": "surface"
           }
          ],
          "table": [
           {
            "cells": {
             "fill": {
              "color": "#EBF0F8"
             },
             "line": {
              "color": "white"
             }
            },
            "header": {
             "fill": {
              "color": "#C8D4E3"
             },
             "line": {
              "color": "white"
             }
            },
            "type": "table"
           }
          ]
         },
         "layout": {
          "annotationdefaults": {
           "arrowcolor": "#2a3f5f",
           "arrowhead": 0,
           "arrowwidth": 1
          },
          "autotypenumbers": "strict",
          "coloraxis": {
           "colorbar": {
            "outlinewidth": 0,
            "ticks": ""
           }
          },
          "colorscale": {
           "diverging": [
            [
             0,
             "#8e0152"
            ],
            [
             0.1,
             "#c51b7d"
            ],
            [
             0.2,
             "#de77ae"
            ],
            [
             0.3,
             "#f1b6da"
            ],
            [
             0.4,
             "#fde0ef"
            ],
            [
             0.5,
             "#f7f7f7"
            ],
            [
             0.6,
             "#e6f5d0"
            ],
            [
             0.7,
             "#b8e186"
            ],
            [
             0.8,
             "#7fbc41"
            ],
            [
             0.9,
             "#4d9221"
            ],
            [
             1,
             "#276419"
            ]
           ],
           "sequential": [
            [
             0,
             "#0d0887"
            ],
            [
             0.1111111111111111,
             "#46039f"
            ],
            [
             0.2222222222222222,
             "#7201a8"
            ],
            [
             0.3333333333333333,
             "#9c179e"
            ],
            [
             0.4444444444444444,
             "#bd3786"
            ],
            [
             0.5555555555555556,
             "#d8576b"
            ],
            [
             0.6666666666666666,
             "#ed7953"
            ],
            [
             0.7777777777777778,
             "#fb9f3a"
            ],
            [
             0.8888888888888888,
             "#fdca26"
            ],
            [
             1,
             "#f0f921"
            ]
           ],
           "sequentialminus": [
            [
             0,
             "#0d0887"
            ],
            [
             0.1111111111111111,
             "#46039f"
            ],
            [
             0.2222222222222222,
             "#7201a8"
            ],
            [
             0.3333333333333333,
             "#9c179e"
            ],
            [
             0.4444444444444444,
             "#bd3786"
            ],
            [
             0.5555555555555556,
             "#d8576b"
            ],
            [
             0.6666666666666666,
             "#ed7953"
            ],
            [
             0.7777777777777778,
             "#fb9f3a"
            ],
            [
             0.8888888888888888,
             "#fdca26"
            ],
            [
             1,
             "#f0f921"
            ]
           ]
          },
          "colorway": [
           "#636efa",
           "#EF553B",
           "#00cc96",
           "#ab63fa",
           "#FFA15A",
           "#19d3f3",
           "#FF6692",
           "#B6E880",
           "#FF97FF",
           "#FECB52"
          ],
          "font": {
           "color": "#2a3f5f"
          },
          "geo": {
           "bgcolor": "white",
           "lakecolor": "white",
           "landcolor": "#E5ECF6",
           "showlakes": true,
           "showland": true,
           "subunitcolor": "white"
          },
          "hoverlabel": {
           "align": "left"
          },
          "hovermode": "closest",
          "mapbox": {
           "style": "light"
          },
          "paper_bgcolor": "white",
          "plot_bgcolor": "#E5ECF6",
          "polar": {
           "angularaxis": {
            "gridcolor": "white",
            "linecolor": "white",
            "ticks": ""
           },
           "bgcolor": "#E5ECF6",
           "radialaxis": {
            "gridcolor": "white",
            "linecolor": "white",
            "ticks": ""
           }
          },
          "scene": {
           "xaxis": {
            "backgroundcolor": "#E5ECF6",
            "gridcolor": "white",
            "gridwidth": 2,
            "linecolor": "white",
            "showbackground": true,
            "ticks": "",
            "zerolinecolor": "white"
           },
           "yaxis": {
            "backgroundcolor": "#E5ECF6",
            "gridcolor": "white",
            "gridwidth": 2,
            "linecolor": "white",
            "showbackground": true,
            "ticks": "",
            "zerolinecolor": "white"
           },
           "zaxis": {
            "backgroundcolor": "#E5ECF6",
            "gridcolor": "white",
            "gridwidth": 2,
            "linecolor": "white",
            "showbackground": true,
            "ticks": "",
            "zerolinecolor": "white"
           }
          },
          "shapedefaults": {
           "line": {
            "color": "#2a3f5f"
           }
          },
          "ternary": {
           "aaxis": {
            "gridcolor": "white",
            "linecolor": "white",
            "ticks": ""
           },
           "baxis": {
            "gridcolor": "white",
            "linecolor": "white",
            "ticks": ""
           },
           "bgcolor": "#E5ECF6",
           "caxis": {
            "gridcolor": "white",
            "linecolor": "white",
            "ticks": ""
           }
          },
          "title": {
           "x": 0.05
          },
          "xaxis": {
           "automargin": true,
           "gridcolor": "white",
           "linecolor": "white",
           "ticks": "",
           "title": {
            "standoff": 15
           },
           "zerolinecolor": "white",
           "zerolinewidth": 2
          },
          "yaxis": {
           "automargin": true,
           "gridcolor": "white",
           "linecolor": "white",
           "ticks": "",
           "title": {
            "standoff": 15
           },
           "zerolinecolor": "white",
           "zerolinewidth": 2
          }
         }
        },
        "title": {
         "text": "Vaccination Rate vs COVID-19 Infection Rate in NYC (2021)"
        },
        "xaxis": {
         "anchor": "y",
         "domain": [
          0,
          1
         ],
         "title": {
          "text": "Number of vaccinated individuals (millions)"
         }
        },
        "yaxis": {
         "anchor": "x",
         "domain": [
          0,
          1
         ],
         "title": {
          "text": "Number of infected individuals (millions)"
         }
        }
       }
      }
     },
     "metadata": {},
     "output_type": "display_data"
    }
   ],
   "source": [
    "\n",
    "vax_rate = joined_data['Series_Complete_Yes'].to_list()\n",
    "infection_rate = joined_data['Number_confirmed'].to_list()\n",
    "px.scatter(x=vax_rate,\n",
    "           y=infection_rate, \n",
    "           title = \"Vaccination Rate vs COVID-19 Infection Rate in NYC (2021)\",\n",
    "           labels={\"x\": \"Number of vaccinated individuals (millions)\",\n",
    "                    \"y\": \"Number of infected individuals (millions)\"\n",
    "                 })"
   ]
  },
  {
   "cell_type": "markdown",
   "metadata": {},
   "source": [
    "If we look at this graph, we can see that as the number of vaccinated individuals increase, the number of infected individuals decrease. However, this trend does not look linear at all. Rather if we were to draw a line of best fit for this data, it would look more like a curve than a line. \n",
    "\n",
    "To me, this curve reminds me of a reciprocal function when the x values are positive. In order to test how well my curve will fit to the graph, we will use r<sup>2</sup> or the r-squared. [R-squared](https://www.investopedia.com/terms/r/r-squared.asp#limitations-of-r-squared) *is a statistical measure of fit that indicates how much variation of a dependent variable is explained by the independent variable(s) in a regression model* and is a value between zero where the higher the value, the better the fit. \n",
    "\n",
    "Like before, if we want to establish that there is a correlation between the infection and vaccination rate, we first need to state our null hypothesis and our threshold. Our null hypothesis is that there is no correlation between the infection and vaccination rate and for our threshold we would like to see a r-squared value greater than 0.8.\n",
    "\n",
    "While r-squared does provide an understanding of how well our model fits the data, it does not provide an understanding of how biased our model is. In statistics, bias refers to the tendency of how a given parameter might underestimate or overestimate a value. For example, if we had a perfect model for our data, and we start to introduce new data into that model, the results might underestimate or overestimate what we expect to happen because the model was too well fitted to the initial dataset. To prevent this from happening, we split our data into a training and testing set where the training set is used to train the model and the testing set is used to test how well our model functions. In our case, we will be using 30% of the data for test and the rest of the data for training.  "
   ]
  },
  {
   "cell_type": "code",
   "execution_count": 52,
   "metadata": {},
   "outputs": [
    {
     "name": "stdout",
     "output_type": "stream",
     "text": [
      "The r2 score for this curve fitting is 0.9103803016466594\n",
      " The equation of the curve is y = (5.38e+11 / (7.28e+05 + x)) + -8.54e+04\n"
     ]
    }
   ],
   "source": [
    "import warnings\n",
    "import numpy as np\n",
    "from sklearn.metrics import r2_score\n",
    "from scipy.optimize import curve_fit\n",
    "from sklearn.model_selection import train_test_split \n",
    "\n",
    "\n",
    "\n",
    "vax_rate = joined_data['Series_Complete_Yes'].to_list()\n",
    "infection_rate = joined_data['Number_confirmed'].to_list()\n",
    "\n",
    "random_state = 40\n",
    "x_train, x_test, y_train, y_test = train_test_split(vax_rate, infection_rate, test_size=0.3, random_state=random_state)\n",
    "\n",
    "#generalized reciprocal function\n",
    "def recip_func(x, a, b,c):\n",
    "    return a * (1 / (b + x)) + c;\n",
    "\n",
    "warnings.filterwarnings(\"ignore\")\n",
    "[a, b, c] , params_covar = curve_fit(recip_func,x_train,y_train)\n",
    "\n",
    "values = [recip_func(x, a, b, c) for x in x_test];\n",
    "r2score = r2_score(y_test, values)\n",
    "equation = f\"y = ({np.format_float_scientific(a, precision=2)} / ({np.format_float_scientific(b, precision=2)} + x)) + {np.format_float_scientific(c, precision=2)}\"\n",
    "print(f\"The r2 score for this curve fitting is {r2score}\")\n",
    "print(f\" The equation of the curve is {equation}\")"
   ]
  },
  {
   "cell_type": "markdown",
   "metadata": {},
   "source": [
    "Plotting this curve onto our scatterplot, we get"
   ]
  },
  {
   "cell_type": "code",
   "execution_count": 53,
   "metadata": {},
   "outputs": [
    {
     "data": {
      "application/vnd.plotly.v1+json": {
       "config": {
        "plotlyServerURL": "https://plot.ly"
       },
       "data": [
        {
         "mode": "markers",
         "showlegend": false,
         "type": "scatter",
         "x": [
          4140,
          8802,
          10070,
          10556,
          18608,
          23819,
          29241,
          29650,
          37432,
          39816,
          40741,
          41399,
          47642,
          54751,
          60885,
          65698,
          68110,
          70014,
          77734,
          84623,
          93504,
          102641,
          111416,
          115413,
          118054,
          122006,
          127670,
          139147,
          155327,
          170759,
          180004,
          187336,
          205072,
          224732,
          246486,
          269544,
          292766,
          311195,
          312432,
          338222,
          354731,
          371871,
          392710,
          411577,
          431681,
          445297,
          455336,
          465088,
          478576,
          500788,
          526243,
          547102,
          562222,
          577037,
          588090,
          599772,
          617171,
          638886,
          659609,
          674844,
          692102,
          708080,
          725218,
          727768,
          749873,
          770817,
          795636,
          816900,
          838638,
          862124,
          890618,
          918830,
          944234,
          981450,
          1017852,
          1046703,
          1084161,
          1127966,
          1171802,
          1211459,
          1233727,
          1268676,
          1311995,
          1342884,
          1413289,
          1469520,
          1515487,
          1534070,
          1577569,
          1587101,
          1626031,
          1672340,
          1730079,
          1782818,
          1823908,
          1867765,
          1901552,
          1933866,
          1977601,
          2031790,
          2075867,
          2107238,
          2132994,
          2158940,
          2188300,
          2226470,
          2266695,
          2304145,
          2336221,
          2365639,
          2415346,
          2479911,
          2534241,
          2584855,
          2623270,
          2654114,
          2689998,
          2736945,
          2788791,
          2833701,
          2888252,
          2944996,
          2992714,
          3027356,
          3068426,
          3105240,
          3144030,
          3186196,
          3227075,
          3249460,
          3273141,
          3308668,
          3339881,
          3380683,
          3410144,
          3445078,
          3462681,
          3483288,
          3507439,
          3530475,
          3554371,
          3583241,
          3606876,
          3621132,
          3629582,
          3646746,
          3668781,
          3690924,
          3720288,
          3748676,
          3767439,
          3784262,
          3810301,
          3841844,
          3866126,
          3893043,
          3914429,
          3928231,
          3930053,
          3973654,
          3999885,
          4016682,
          4040516,
          4057732,
          4074042,
          4084447,
          4097126,
          4116055,
          4132629,
          4156475,
          4207283,
          4215088,
          4225839,
          4237144,
          4252859,
          4253842,
          4283185,
          4294763,
          4300513,
          4304884,
          4316466,
          4329725,
          4340421,
          4352167,
          4365530,
          4372780,
          4380322,
          4389814,
          4402046,
          4412162,
          4421802,
          4430868,
          4440332,
          4447811,
          4457952,
          4467885,
          4477294,
          4488541,
          4490213,
          4495840,
          4509007,
          4520137,
          4528327,
          4537470,
          4547437,
          4557480,
          4562996,
          4568959,
          4576886,
          4587702,
          4599000,
          4607083,
          4617576,
          4621844,
          4630033,
          4638788,
          4646667,
          4659827,
          4669805,
          4677848,
          4686210,
          4694167,
          4703790,
          4714888,
          4726550,
          4737569,
          4749296,
          4755065,
          4763520,
          4775920,
          4788195,
          4802424,
          4816736,
          4830427,
          4841221,
          4854341,
          4870056,
          4886654,
          4906436,
          4922500,
          4935689,
          4946917,
          4953040,
          4963908,
          4978239,
          4998738,
          5012965,
          5029459,
          5037984,
          5047119,
          5060064,
          5075581,
          5091783,
          5107399,
          5122666,
          5131811,
          5140331,
          5154326,
          5168758,
          5181937,
          5196465,
          5210824,
          5219854,
          5228637
         ],
         "y": [
          883725,
          615169,
          516082,
          919924,
          837443,
          821949,
          852723,
          746554,
          552893,
          437441,
          691734,
          770220,
          723324,
          712910,
          697785,
          486690,
          394625,
          790751,
          680857,
          665244,
          657357,
          523276,
          384664,
          391165,
          123885,
          326028,
          641549,
          620422,
          547451,
          406429,
          225527,
          574120,
          486484,
          484292,
          435237,
          414905,
          290811,
          230922,
          361283,
          438891,
          397968,
          235641,
          357536,
          286528,
          251849,
          416636,
          411672,
          392360,
          414514,
          385265,
          243607,
          214106,
          395908,
          329158,
          355532,
          325214,
          321403,
          230836,
          194447,
          348666,
          346212,
          319931,
          320850,
          318511,
          229788,
          191677,
          314151,
          307872,
          300336,
          279798,
          288822,
          214443,
          199251,
          350433,
          291313,
          306852,
          328614,
          305667,
          208508,
          158522,
          307969,
          276589,
          294141,
          260918,
          239352,
          190196,
          133975,
          269176,
          248859,
          238267,
          211430,
          193298,
          150112,
          107273,
          199210,
          183949,
          172830,
          164353,
          146813,
          100769,
          90135,
          141722,
          126030,
          113122,
          99642,
          96230,
          65909,
          59440,
          106080,
          91297,
          92678,
          81473,
          68527,
          44659,
          40489,
          69266,
          62268,
          53199,
          51466,
          52701,
          27346,
          21300,
          43616,
          44378,
          40360,
          32091,
          33776,
          18573,
          19422,
          29337,
          26068,
          24425,
          27128,
          24585,
          16179,
          12044,
          19472,
          21512,
          16899,
          16979,
          14659,
          9080,
          7802,
          6009,
          18449,
          14662,
          12668,
          12855,
          7594,
          7014,
          13835,
          10350,
          11743,
          9722,
          9578,
          6869,
          5863,
          8661,
          10703,
          9433,
          8984,
          8052,
          5348,
          4965,
          7564,
          8859,
          9945,
          6752,
          8678,
          5724,
          4509,
          9979,
          8389,
          9207,
          8750,
          8706,
          4872,
          4686,
          7782,
          14606,
          15069,
          13039,
          13363,
          7371,
          8039,
          16309,
          14227,
          17111,
          17759,
          16627,
          11885,
          10606,
          20692,
          17849,
          20940,
          25781,
          23461,
          14381,
          16102,
          28390,
          31038,
          28655,
          29177,
          29048,
          20640,
          19007,
          33222,
          34268,
          34011,
          31635,
          31044,
          21762,
          21103,
          35340,
          31368,
          32965,
          30798,
          26652,
          16875,
          19169,
          30671,
          28058,
          27841,
          24696,
          23365,
          17323,
          10624,
          25666,
          22720,
          22653,
          19504,
          16853,
          11420,
          11551,
          18214,
          15218,
          14150,
          13352,
          12083,
          8272,
          8084,
          7502,
          10302,
          11235,
          10954,
          9186,
          6753,
          7118,
          9152,
          7833,
          7281,
          6035,
          6635,
          4021,
          3908,
          5151,
          3569,
          3435,
          2312,
          1757,
          952,
          659,
          304,
          9
         ]
        },
        {
         "mode": "lines",
         "showlegend": false,
         "type": "scatter",
         "x": [
          0,
          19880.749049429658,
          39761.498098859316,
          59642.247148288974,
          79522.99619771863,
          99403.7452471483,
          119284.49429657795,
          139165.2433460076,
          159045.99239543726,
          178926.74144486693,
          198807.4904942966,
          218688.23954372623,
          238568.9885931559,
          258449.73764258556,
          278330.4866920152,
          298211.23574144486,
          318091.9847908745,
          337972.7338403042,
          357853.48288973386,
          377734.2319391635,
          397614.9809885932,
          417495.7300380228,
          437376.47908745246,
          457257.2281368821,
          477137.9771863118,
          497018.72623574146,
          516899.4752851711,
          536780.2243346007,
          556660.9733840304,
          576541.7224334601,
          596422.4714828897,
          616303.2205323194,
          636183.969581749,
          656064.7186311787,
          675945.4676806084,
          695826.216730038,
          715706.9657794677,
          735587.7148288974,
          755468.463878327,
          775349.2129277567,
          795229.9619771864,
          815110.7110266159,
          834991.4600760456,
          854872.2091254753,
          874752.9581749049,
          894633.7072243346,
          914514.4562737643,
          934395.2053231939,
          954275.9543726236,
          974156.7034220533,
          994037.4524714829,
          1013918.2015209126,
          1033798.9505703422,
          1053679.699619772,
          1073560.4486692015,
          1093441.1977186312,
          1113321.9467680608,
          1133202.6958174906,
          1153083.4448669201,
          1172964.19391635,
          1192844.9429657795,
          1212725.6920152092,
          1232606.4410646388,
          1252487.1901140686,
          1272367.939163498,
          1292248.6882129277,
          1312129.4372623574,
          1332010.186311787,
          1351890.9353612168,
          1371771.6844106463,
          1391652.433460076,
          1411533.1825095057,
          1431413.9315589354,
          1451294.680608365,
          1471175.4296577948,
          1491056.1787072243,
          1510936.927756654,
          1530817.6768060836,
          1550698.4258555134,
          1570579.174904943,
          1590459.9239543728,
          1610340.6730038023,
          1630221.4220532319,
          1650102.1711026616,
          1669982.9201520912,
          1689863.669201521,
          1709744.4182509505,
          1729625.1673003803,
          1749505.9163498098,
          1769386.6653992396,
          1789267.4144486692,
          1809148.163498099,
          1829028.9125475285,
          1848909.6615969583,
          1868790.4106463878,
          1888671.1596958176,
          1908551.9087452472,
          1928432.6577946767,
          1948313.4068441065,
          1968194.155893536,
          1988074.9049429658,
          2007955.6539923954,
          2027836.4030418252,
          2047717.1520912547,
          2067597.9011406845,
          2087478.650190114,
          2107359.399239544,
          2127240.1482889736,
          2147120.897338403,
          2167001.6463878327,
          2186882.3954372625,
          2206763.1444866923,
          2226643.8935361216,
          2246524.6425855514,
          2266405.391634981,
          2286286.1406844105,
          2306166.8897338402,
          2326047.63878327,
          2345928.3878327,
          2365809.136882129,
          2385689.885931559,
          2405570.6349809887,
          2425451.3840304185,
          2445332.133079848,
          2465212.8821292776,
          2485093.6311787074,
          2504974.380228137,
          2524855.1292775664,
          2544735.878326996,
          2564616.627376426,
          2584497.3764258553,
          2604378.125475285,
          2624258.874524715,
          2644139.6235741447,
          2664020.372623574,
          2683901.121673004,
          2703781.8707224336,
          2723662.6197718633,
          2743543.3688212926,
          2763424.1178707224,
          2783304.866920152,
          2803185.615969582,
          2823066.3650190113,
          2842947.114068441,
          2862827.863117871,
          2882708.6121673,
          2902589.36121673,
          2922470.1102661598,
          2942350.8593155895,
          2962231.608365019,
          2982112.3574144486,
          3001993.1064638784,
          3021873.855513308,
          3041754.6045627375,
          3061635.3536121673,
          3081516.102661597,
          3101396.851711027,
          3121277.600760456,
          3141158.349809886,
          3161039.0988593157,
          3180919.8479087455,
          3200800.596958175,
          3220681.3460076046,
          3240562.0950570344,
          3260442.8441064637,
          3280323.5931558935,
          3300204.3422053233,
          3320085.091254753,
          3339965.8403041824,
          3359846.589353612,
          3379727.338403042,
          3399608.0874524717,
          3419488.836501901,
          3439369.585551331,
          3459250.3346007606,
          3479131.0836501904,
          3499011.8326996197,
          3518892.5817490495,
          3538773.3307984793,
          3558654.0798479086,
          3578534.8288973384,
          3598415.577946768,
          3618296.326996198,
          3638177.0760456272,
          3658057.825095057,
          3677938.574144487,
          3697819.3231939166,
          3717700.072243346,
          3737580.8212927757,
          3757461.5703422055,
          3777342.3193916352,
          3797223.0684410646,
          3817103.8174904943,
          3836984.566539924,
          3856865.3155893534,
          3876746.064638783,
          3896626.813688213,
          3916507.562737643,
          3936388.311787072,
          3956269.060836502,
          3976149.8098859317,
          3996030.5589353614,
          4015911.3079847908,
          4035792.0570342205,
          4055672.8060836503,
          4075553.55513308,
          4095434.3041825094,
          4115315.053231939,
          4135195.802281369,
          4155076.5513307983,
          4174957.300380228,
          4194838.049429658,
          4214718.798479088,
          4234599.547528517,
          4254480.296577947,
          4274361.045627376,
          4294241.794676806,
          4314122.543726236,
          4334003.292775665,
          4353884.041825095,
          4373764.790874525,
          4393645.539923955,
          4413526.288973385,
          4433407.038022813,
          4453287.787072243,
          4473168.536121673,
          4493049.285171103,
          4512930.0342205325,
          4532810.783269962,
          4552691.532319392,
          4572572.281368821,
          4592453.030418251,
          4612333.7794676805,
          4632214.52851711,
          4652095.27756654,
          4671976.02661597,
          4691856.7756654,
          4711737.524714829,
          4731618.273764258,
          4751499.022813688,
          4771379.771863118,
          4791260.520912548,
          4811141.269961977,
          4831022.019011407,
          4850902.768060837,
          4870783.517110266,
          4890664.266159696,
          4910545.015209125,
          4930425.764258555,
          4950306.513307985,
          4970187.262357415,
          4990068.0114068445,
          5009948.760456274,
          5029829.509505703,
          5049710.258555133,
          5069591.007604563,
          5089471.756653992,
          5109352.505703422,
          5129233.254752852,
          5149114.003802282,
          5168994.752851711,
          5188875.50190114,
          5208756.25095057,
          5228637
         ],
         "y": [
          654387.8756357746,
          634713.1026542563,
          616057.7540276325,
          598344.6001901872,
          581504.0204434562,
          565473.0884238643,
          550194.7863784315,
          535617.3275682456,
          521693.5698288871,
          508380.50629434607,
          495638.82169328816,
          483432.50457463425,
          471728.5074067508,
          460496.44779386406,
          449708.34512151906,
          439338.38782479556,
          429362.72720399173,
          419759.2943207414,
          410507.6370155208,
          401588.7745132671,
          392985.06744189153,
          384680.10139058507,
          376658.58239052776,
          368906.24291771575,
          361409.7572024735,
          354156.6647880715,
          347135.3014160188,
          340334.7364316375,
          333744.7160033784,
          327355.6115355128,
          321158.37272834394,
          315144.48480468657,
          309305.92947748344,
          303635.1492822932,
          298125.0149410216,
          292768.7954605443,
          287560.1307025261,
          282493.0061894024,
          277561.72993669624,
          272760.91112404526,
          268085.44043691095,
          263530.4719282634,
          259091.4062648731,
          254763.87523645093,
          250543.72741795483,
          246427.01488614315,
          242409.98090102943,
          238489.04847144586,
          234660.80973156152,
          230922.01606203965,
          227269.56889564294,
          223700.51115259354,
          220212.01925593283,
          216801.39568156784,
          213466.062001694,
          210203.5523838899,
          207011.50751143764,
          203887.66889336728,
          200829.8735353878,
          197836.0489452788,
          194904.20844850724,
          192032.4467918189,
          189218.93601436098,
          186461.92156753252,
          183759.7186662556,
          181110.7088557232,
          178513.33677892323,
          175966.10713137078,
          173467.5817905224,
          171016.37710829193,
          168611.1613559578,
          166250.6523115481,
          163933.61498051925,
          161658.85944121587,
          159425.23880721314,
          157231.6472992112,
          155077.01841967038,
          152960.3232238574,
          150880.5686814123,
          148836.79612295548,
          146828.0797666292,
          144853.5253198164,
          142912.26865159784,
          141003.47453180954,
          139126.3354328333,
          137280.07039050947,
          135463.92392079678,
          133677.1649890209,
          131919.08602875881,
          130189.00200759104,
          128486.24953713184,
          126810.1860249069,
          125160.1888658019,
          123535.65467094388,
          121935.99853200914,
          120360.6533190734,
          118809.06901023377,
          117280.71205133738,
          115775.06474425094,
          114291.62466219848,
          112829.90409077946,
          111389.42949336118,
          109969.74099961438,
          108570.39191603195,
          107190.94825733529,
          105830.9882977368,
          104490.10214108333,
          103167.89130896021,
          101863.96834588627,
          100577.95644077836,
          99309.48906390887,
          98058.20961862049,
          96823.77110710408,
          95605.83580958095,
          94404.07497626706,
          93218.16853152827,
          92047.8047896678,
          90892.68018181625,
          89752.49899342022,
          88626.97311185417,
          87515.82178370195,
          86418.77138127893,
          85335.55517798715,
          84265.91313211533,
          83209.59167871636,
          82166.34352921223,
          81135.9274783933,
          80118.10821849617,
          79112.65616005845,
          78119.34725926479,
          77137.96285151038,
          76168.28949092326,
          75210.11879559737,
          74263.2472983009,
          73327.47630243527,
          72402.61174303037,
          71488.4640525722,
          70584.84803146753,
          69691.58272296027,
          68808.49129232144,
          67935.40091014389,
          67072.14263957975,
          66218.55132736603,
          65374.46549849081,
          64539.727254358964,
          63714.1821743224,
          62897.67922044583,
          62090.070645384985,
          61291.21190325878,
          60500.96156340299,
          59719.18122689691,
          58945.73544575993,
          58180.49164471871,
          57423.320045450004,
          56674.09359320821,
          55932.68788575096,
          55198.9811044783,
          54472.853947706666,
          53754.18956599955,
          53042.87349948226,
          52338.79361706978,
          51641.840057539695,
          50951.905172385596,
          50268.88347038822,
          49592.67156384469,
          48923.16811639763,
          48260.273792409804,
          47603.89120783043,
          46953.924882502324,
          46310.28119386098,
          45672.86833197836,
          45041.59625590569,
          44416.37665127235,
          43797.12288909832,
          43183.74998578007,
          42576.17456421121,
          41974.314816000246,
          41378.09046474962,
          40787.42273036158,
          40202.23429433732,
          39622.449266037336,
          39047.99314987207,
          38478.7928133932,
          37914.77645625676,
          37355.87358003012,
          36802.01495881696,
          36253.13261067367,
          35709.159769792794,
          35170.030859429666,
          34635.6814655491,
          34106.04831116965,
          33581.06923138465,
          33060.68314903822,
          32544.8300510376,
          32033.450965281445,
          31526.48793818576,
          31023.884012789873,
          30525.58320742438,
          30031.530494925144,
          29541.671782376012,
          29055.953891365934,
          28574.324538744127,
          28096.73231785941,
          27623.126680269314,
          27153.457917905223,
          26687.677145680616,
          26225.736284529325,
          25767.588044861477,
          25313.185910425513,
          24862.48412256426,
          24415.437664854093,
          23972.00224811642,
          23532.134295790747,
          23095.790929659648,
          22662.92995591514,
          22233.50985155764,
          21807.489751117813,
          21384.82943369272,
          20965.489310287332,
          20549.430411453242,
          20136.614375216464,
          19727.003435286388,
          19320.56040953823,
          18917.2486887619,
          18517.032225669565,
          18119.875524155723,
          17725.74362880239,
          17334.602114623252,
          16946.417077040445,
          16561.155122087614,
          16178.783356833635,
          15799.26938002085,
          15422.581272912677,
          15048.687590344649,
          14677.557351974086,
          14309.160033722888,
          13943.465559408869,
          13580.444292560482,
          13220.067028410427,
          12862.304986063522,
          12507.129800834562,
          12154.513516751773,
          11804.428579221567,
          11456.847827850914,
          11111.744489423014,
          10769.092171022829,
          10428.86485330823,
          10091.036883924055,
          9755.582971054362,
          9422.478177110708,
          9091.697912552161,
          8763.21792983447,
          8437.01431748498,
          8113.063494300237,
          7791.342203663444,
          7471.827507978887,
          7154.496783220413,
          6839.327713591338,
          6526.298286293153,
          6215.386786400355,
          5906.5717918389855,
          5599.832168466397,
          5295.1470652499265,
          4992.495909542049
         ]
        }
       ],
       "layout": {
        "template": {
         "data": {
          "bar": [
           {
            "error_x": {
             "color": "#2a3f5f"
            },
            "error_y": {
             "color": "#2a3f5f"
            },
            "marker": {
             "line": {
              "color": "#E5ECF6",
              "width": 0.5
             },
             "pattern": {
              "fillmode": "overlay",
              "size": 10,
              "solidity": 0.2
             }
            },
            "type": "bar"
           }
          ],
          "barpolar": [
           {
            "marker": {
             "line": {
              "color": "#E5ECF6",
              "width": 0.5
             },
             "pattern": {
              "fillmode": "overlay",
              "size": 10,
              "solidity": 0.2
             }
            },
            "type": "barpolar"
           }
          ],
          "carpet": [
           {
            "aaxis": {
             "endlinecolor": "#2a3f5f",
             "gridcolor": "white",
             "linecolor": "white",
             "minorgridcolor": "white",
             "startlinecolor": "#2a3f5f"
            },
            "baxis": {
             "endlinecolor": "#2a3f5f",
             "gridcolor": "white",
             "linecolor": "white",
             "minorgridcolor": "white",
             "startlinecolor": "#2a3f5f"
            },
            "type": "carpet"
           }
          ],
          "choropleth": [
           {
            "colorbar": {
             "outlinewidth": 0,
             "ticks": ""
            },
            "type": "choropleth"
           }
          ],
          "contour": [
           {
            "colorbar": {
             "outlinewidth": 0,
             "ticks": ""
            },
            "colorscale": [
             [
              0,
              "#0d0887"
             ],
             [
              0.1111111111111111,
              "#46039f"
             ],
             [
              0.2222222222222222,
              "#7201a8"
             ],
             [
              0.3333333333333333,
              "#9c179e"
             ],
             [
              0.4444444444444444,
              "#bd3786"
             ],
             [
              0.5555555555555556,
              "#d8576b"
             ],
             [
              0.6666666666666666,
              "#ed7953"
             ],
             [
              0.7777777777777778,
              "#fb9f3a"
             ],
             [
              0.8888888888888888,
              "#fdca26"
             ],
             [
              1,
              "#f0f921"
             ]
            ],
            "type": "contour"
           }
          ],
          "contourcarpet": [
           {
            "colorbar": {
             "outlinewidth": 0,
             "ticks": ""
            },
            "type": "contourcarpet"
           }
          ],
          "heatmap": [
           {
            "colorbar": {
             "outlinewidth": 0,
             "ticks": ""
            },
            "colorscale": [
             [
              0,
              "#0d0887"
             ],
             [
              0.1111111111111111,
              "#46039f"
             ],
             [
              0.2222222222222222,
              "#7201a8"
             ],
             [
              0.3333333333333333,
              "#9c179e"
             ],
             [
              0.4444444444444444,
              "#bd3786"
             ],
             [
              0.5555555555555556,
              "#d8576b"
             ],
             [
              0.6666666666666666,
              "#ed7953"
             ],
             [
              0.7777777777777778,
              "#fb9f3a"
             ],
             [
              0.8888888888888888,
              "#fdca26"
             ],
             [
              1,
              "#f0f921"
             ]
            ],
            "type": "heatmap"
           }
          ],
          "heatmapgl": [
           {
            "colorbar": {
             "outlinewidth": 0,
             "ticks": ""
            },
            "colorscale": [
             [
              0,
              "#0d0887"
             ],
             [
              0.1111111111111111,
              "#46039f"
             ],
             [
              0.2222222222222222,
              "#7201a8"
             ],
             [
              0.3333333333333333,
              "#9c179e"
             ],
             [
              0.4444444444444444,
              "#bd3786"
             ],
             [
              0.5555555555555556,
              "#d8576b"
             ],
             [
              0.6666666666666666,
              "#ed7953"
             ],
             [
              0.7777777777777778,
              "#fb9f3a"
             ],
             [
              0.8888888888888888,
              "#fdca26"
             ],
             [
              1,
              "#f0f921"
             ]
            ],
            "type": "heatmapgl"
           }
          ],
          "histogram": [
           {
            "marker": {
             "pattern": {
              "fillmode": "overlay",
              "size": 10,
              "solidity": 0.2
             }
            },
            "type": "histogram"
           }
          ],
          "histogram2d": [
           {
            "colorbar": {
             "outlinewidth": 0,
             "ticks": ""
            },
            "colorscale": [
             [
              0,
              "#0d0887"
             ],
             [
              0.1111111111111111,
              "#46039f"
             ],
             [
              0.2222222222222222,
              "#7201a8"
             ],
             [
              0.3333333333333333,
              "#9c179e"
             ],
             [
              0.4444444444444444,
              "#bd3786"
             ],
             [
              0.5555555555555556,
              "#d8576b"
             ],
             [
              0.6666666666666666,
              "#ed7953"
             ],
             [
              0.7777777777777778,
              "#fb9f3a"
             ],
             [
              0.8888888888888888,
              "#fdca26"
             ],
             [
              1,
              "#f0f921"
             ]
            ],
            "type": "histogram2d"
           }
          ],
          "histogram2dcontour": [
           {
            "colorbar": {
             "outlinewidth": 0,
             "ticks": ""
            },
            "colorscale": [
             [
              0,
              "#0d0887"
             ],
             [
              0.1111111111111111,
              "#46039f"
             ],
             [
              0.2222222222222222,
              "#7201a8"
             ],
             [
              0.3333333333333333,
              "#9c179e"
             ],
             [
              0.4444444444444444,
              "#bd3786"
             ],
             [
              0.5555555555555556,
              "#d8576b"
             ],
             [
              0.6666666666666666,
              "#ed7953"
             ],
             [
              0.7777777777777778,
              "#fb9f3a"
             ],
             [
              0.8888888888888888,
              "#fdca26"
             ],
             [
              1,
              "#f0f921"
             ]
            ],
            "type": "histogram2dcontour"
           }
          ],
          "mesh3d": [
           {
            "colorbar": {
             "outlinewidth": 0,
             "ticks": ""
            },
            "type": "mesh3d"
           }
          ],
          "parcoords": [
           {
            "line": {
             "colorbar": {
              "outlinewidth": 0,
              "ticks": ""
             }
            },
            "type": "parcoords"
           }
          ],
          "pie": [
           {
            "automargin": true,
            "type": "pie"
           }
          ],
          "scatter": [
           {
            "marker": {
             "colorbar": {
              "outlinewidth": 0,
              "ticks": ""
             }
            },
            "type": "scatter"
           }
          ],
          "scatter3d": [
           {
            "line": {
             "colorbar": {
              "outlinewidth": 0,
              "ticks": ""
             }
            },
            "marker": {
             "colorbar": {
              "outlinewidth": 0,
              "ticks": ""
             }
            },
            "type": "scatter3d"
           }
          ],
          "scattercarpet": [
           {
            "marker": {
             "colorbar": {
              "outlinewidth": 0,
              "ticks": ""
             }
            },
            "type": "scattercarpet"
           }
          ],
          "scattergeo": [
           {
            "marker": {
             "colorbar": {
              "outlinewidth": 0,
              "ticks": ""
             }
            },
            "type": "scattergeo"
           }
          ],
          "scattergl": [
           {
            "marker": {
             "colorbar": {
              "outlinewidth": 0,
              "ticks": ""
             }
            },
            "type": "scattergl"
           }
          ],
          "scattermapbox": [
           {
            "marker": {
             "colorbar": {
              "outlinewidth": 0,
              "ticks": ""
             }
            },
            "type": "scattermapbox"
           }
          ],
          "scatterpolar": [
           {
            "marker": {
             "colorbar": {
              "outlinewidth": 0,
              "ticks": ""
             }
            },
            "type": "scatterpolar"
           }
          ],
          "scatterpolargl": [
           {
            "marker": {
             "colorbar": {
              "outlinewidth": 0,
              "ticks": ""
             }
            },
            "type": "scatterpolargl"
           }
          ],
          "scatterternary": [
           {
            "marker": {
             "colorbar": {
              "outlinewidth": 0,
              "ticks": ""
             }
            },
            "type": "scatterternary"
           }
          ],
          "surface": [
           {
            "colorbar": {
             "outlinewidth": 0,
             "ticks": ""
            },
            "colorscale": [
             [
              0,
              "#0d0887"
             ],
             [
              0.1111111111111111,
              "#46039f"
             ],
             [
              0.2222222222222222,
              "#7201a8"
             ],
             [
              0.3333333333333333,
              "#9c179e"
             ],
             [
              0.4444444444444444,
              "#bd3786"
             ],
             [
              0.5555555555555556,
              "#d8576b"
             ],
             [
              0.6666666666666666,
              "#ed7953"
             ],
             [
              0.7777777777777778,
              "#fb9f3a"
             ],
             [
              0.8888888888888888,
              "#fdca26"
             ],
             [
              1,
              "#f0f921"
             ]
            ],
            "type": "surface"
           }
          ],
          "table": [
           {
            "cells": {
             "fill": {
              "color": "#EBF0F8"
             },
             "line": {
              "color": "white"
             }
            },
            "header": {
             "fill": {
              "color": "#C8D4E3"
             },
             "line": {
              "color": "white"
             }
            },
            "type": "table"
           }
          ]
         },
         "layout": {
          "annotationdefaults": {
           "arrowcolor": "#2a3f5f",
           "arrowhead": 0,
           "arrowwidth": 1
          },
          "autotypenumbers": "strict",
          "coloraxis": {
           "colorbar": {
            "outlinewidth": 0,
            "ticks": ""
           }
          },
          "colorscale": {
           "diverging": [
            [
             0,
             "#8e0152"
            ],
            [
             0.1,
             "#c51b7d"
            ],
            [
             0.2,
             "#de77ae"
            ],
            [
             0.3,
             "#f1b6da"
            ],
            [
             0.4,
             "#fde0ef"
            ],
            [
             0.5,
             "#f7f7f7"
            ],
            [
             0.6,
             "#e6f5d0"
            ],
            [
             0.7,
             "#b8e186"
            ],
            [
             0.8,
             "#7fbc41"
            ],
            [
             0.9,
             "#4d9221"
            ],
            [
             1,
             "#276419"
            ]
           ],
           "sequential": [
            [
             0,
             "#0d0887"
            ],
            [
             0.1111111111111111,
             "#46039f"
            ],
            [
             0.2222222222222222,
             "#7201a8"
            ],
            [
             0.3333333333333333,
             "#9c179e"
            ],
            [
             0.4444444444444444,
             "#bd3786"
            ],
            [
             0.5555555555555556,
             "#d8576b"
            ],
            [
             0.6666666666666666,
             "#ed7953"
            ],
            [
             0.7777777777777778,
             "#fb9f3a"
            ],
            [
             0.8888888888888888,
             "#fdca26"
            ],
            [
             1,
             "#f0f921"
            ]
           ],
           "sequentialminus": [
            [
             0,
             "#0d0887"
            ],
            [
             0.1111111111111111,
             "#46039f"
            ],
            [
             0.2222222222222222,
             "#7201a8"
            ],
            [
             0.3333333333333333,
             "#9c179e"
            ],
            [
             0.4444444444444444,
             "#bd3786"
            ],
            [
             0.5555555555555556,
             "#d8576b"
            ],
            [
             0.6666666666666666,
             "#ed7953"
            ],
            [
             0.7777777777777778,
             "#fb9f3a"
            ],
            [
             0.8888888888888888,
             "#fdca26"
            ],
            [
             1,
             "#f0f921"
            ]
           ]
          },
          "colorway": [
           "#636efa",
           "#EF553B",
           "#00cc96",
           "#ab63fa",
           "#FFA15A",
           "#19d3f3",
           "#FF6692",
           "#B6E880",
           "#FF97FF",
           "#FECB52"
          ],
          "font": {
           "color": "#2a3f5f"
          },
          "geo": {
           "bgcolor": "white",
           "lakecolor": "white",
           "landcolor": "#E5ECF6",
           "showlakes": true,
           "showland": true,
           "subunitcolor": "white"
          },
          "hoverlabel": {
           "align": "left"
          },
          "hovermode": "closest",
          "mapbox": {
           "style": "light"
          },
          "paper_bgcolor": "white",
          "plot_bgcolor": "#E5ECF6",
          "polar": {
           "angularaxis": {
            "gridcolor": "white",
            "linecolor": "white",
            "ticks": ""
           },
           "bgcolor": "#E5ECF6",
           "radialaxis": {
            "gridcolor": "white",
            "linecolor": "white",
            "ticks": ""
           }
          },
          "scene": {
           "xaxis": {
            "backgroundcolor": "#E5ECF6",
            "gridcolor": "white",
            "gridwidth": 2,
            "linecolor": "white",
            "showbackground": true,
            "ticks": "",
            "zerolinecolor": "white"
           },
           "yaxis": {
            "backgroundcolor": "#E5ECF6",
            "gridcolor": "white",
            "gridwidth": 2,
            "linecolor": "white",
            "showbackground": true,
            "ticks": "",
            "zerolinecolor": "white"
           },
           "zaxis": {
            "backgroundcolor": "#E5ECF6",
            "gridcolor": "white",
            "gridwidth": 2,
            "linecolor": "white",
            "showbackground": true,
            "ticks": "",
            "zerolinecolor": "white"
           }
          },
          "shapedefaults": {
           "line": {
            "color": "#2a3f5f"
           }
          },
          "ternary": {
           "aaxis": {
            "gridcolor": "white",
            "linecolor": "white",
            "ticks": ""
           },
           "baxis": {
            "gridcolor": "white",
            "linecolor": "white",
            "ticks": ""
           },
           "bgcolor": "#E5ECF6",
           "caxis": {
            "gridcolor": "white",
            "linecolor": "white",
            "ticks": ""
           }
          },
          "title": {
           "x": 0.05
          },
          "xaxis": {
           "automargin": true,
           "gridcolor": "white",
           "linecolor": "white",
           "ticks": "",
           "title": {
            "standoff": 15
           },
           "zerolinecolor": "white",
           "zerolinewidth": 2
          },
          "yaxis": {
           "automargin": true,
           "gridcolor": "white",
           "linecolor": "white",
           "ticks": "",
           "title": {
            "standoff": 15
           },
           "zerolinecolor": "white",
           "zerolinewidth": 2
          }
         }
        },
        "title": {
         "text": "Vaccination Rate vs COVID-19 Infection Rate in NYC (2021)"
        },
        "xaxis": {
         "title": {
          "text": "Number of vaccinated individuals (millions)"
         }
        },
        "yaxis": {
         "title": {
          "text": "Number of infected individuals (millions)"
         }
        }
       }
      }
     },
     "metadata": {},
     "output_type": "display_data"
    }
   ],
   "source": [
    "import plotly.graph_objects as go\n",
    "\n",
    "\n",
    "#creating the regression line\n",
    "myline = np.linspace(0, max(vax_rate), len(vax_rate))\n",
    "y_pred = [recip_func(x, a, b, c) for x in myline];\n",
    "\n",
    "\n",
    "#Plotting the regression line and data\n",
    "layout = dict(\n",
    "            title = \"Vaccination Rate vs COVID-19 Infection Rate in NYC (2021)\",\n",
    "            xaxis=dict(title='Number of vaccinated individuals (millions)'),\n",
    "            yaxis=dict(title='Number of infected individuals (millions)')\n",
    "            )\n",
    "\n",
    "\n",
    "fig = go.Figure(layout=layout)\n",
    "\n",
    "#scatter plot\n",
    "fig.add_trace(go.Scatter(\n",
    "                x=vax_rate, \n",
    "                y=infection_rate, \n",
    "                mode='markers', \n",
    "                showlegend = False,  \n",
    "            ))\n",
    "\n",
    "#line \n",
    "fig.add_trace(go.Scatter(x=myline, y=y_pred, mode= 'lines', showlegend=False))\n",
    "fig"
   ]
  },
  {
   "cell_type": "markdown",
   "metadata": {},
   "source": [
    "Here our r-squared value is around 0.91 which means that 91% of the variance in our infectoin rate data can be explained by the vaccination data. This shows that these two factors are highly correlating.  \n",
    "\n",
    "However that is only for one iteration. Since the training and testing datasets are picked arbitrarily, we can go through our dataset a certain amount of iterations to see on average how well our model fits the data. In this case, lets try a 1000 iterations and we get,  "
   ]
  },
  {
   "cell_type": "code",
   "execution_count": 13,
   "metadata": {},
   "outputs": [
    {
     "name": "stdout",
     "output_type": "stream",
     "text": [
      "The average r2 score is 0.8559 with a standard deviation of 0.15 for 1000 iterations\n"
     ]
    }
   ],
   "source": [
    "scores = []\n",
    "iterations = 1000\n",
    "for i in range(iterations):\n",
    "    x_train, x_test, y_train, y_test = train_test_split(vax_rate, infection_rate, test_size=0.3)\n",
    "    def func(x, a, b,c):\n",
    "        return a * (1 / (b + x)) + c;\n",
    "\n",
    "\n",
    "    warnings.filterwarnings(\"ignore\")\n",
    "    [a, b, c] , params_covar = curve_fit(func,x_train, y_train)\n",
    "    values = [func(x, a, b, c) for x in x_test];\n",
    "    r2score = r2_score(y_test, values)\n",
    "    if r2score > 0:\n",
    "        scores.append(r2score)\n",
    "\n",
    "\n",
    "print(f\"The average r2 score is {np.mean(scores).round(decimals = 4)}\"+ f\" with a standard deviation of {np.std(scores).round(decimals =2)} for {iterations} iterations\")"
   ]
  },
  {
   "cell_type": "markdown",
   "metadata": {},
   "source": [
    "## Conclusions and Final Thoughts\n",
    "---\n",
    "\n",
    "Through looking at these three datasets from two different sources, we have found very interesting insight with regards to the COVID-19 and NYC. From this basic inquiry, we have seen a statistically significant period between March through June of 2020 in regards to those who have been infected through exposure. \n",
    "\n",
    "As we continue to look at NYC COVID-19 infections, another topic of interest came about which were the vacccines. Using the CDC and NYC OpenData datasets on vaccinated and infected indivduals, we built and tested a model to determine if such a correlation existed and indeed a correlation does exist. \n",
    "\n",
    "From these basic findings, a lot more interesting questions arise. For example, the definition of exposure as defined by the CDC is extrememly specific and if we were to broaden the scope of the definition, would we still see this signficance? Like any statisical inqiury, the rabbit hole can always get deeper."
   ]
  }
 ],
 "metadata": {
  "interpreter": {
   "hash": "af90613d0c7b1f53f1559796c84c243afe8996f5b0837dd6d8825a84af430322"
  },
  "kernelspec": {
   "display_name": "Python 3 (ipykernel)",
   "language": "python",
   "name": "python3"
  },
  "language_info": {
   "codemirror_mode": {
    "name": "ipython",
    "version": 3
   },
   "file_extension": ".py",
   "mimetype": "text/x-python",
   "name": "python",
   "nbconvert_exporter": "python",
   "pygments_lexer": "ipython3",
   "version": "3.9.6"
  }
 },
 "nbformat": 4,
 "nbformat_minor": 2
}
